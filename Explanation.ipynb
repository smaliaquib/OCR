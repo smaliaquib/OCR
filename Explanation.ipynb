{
 "cells": [
  {
   "cell_type": "markdown",
   "metadata": {},
   "source": [
    "<h1>Building the OCR</h1>"
   ]
  },
  {
   "cell_type": "markdown",
   "metadata": {},
   "source": [
    "<h3>Taking text detection input in text recognition</h3>"
   ]
  },
  {
   "cell_type": "code",
   "execution_count": 1,
   "metadata": {},
   "outputs": [
    {
     "name": "stderr",
     "output_type": "stream",
     "text": [
      "C:\\Users\\Aquib\\Anaconda3\\lib\\site-packages\\h5py\\__init__.py:36: FutureWarning: Conversion of the second argument of issubdtype from `float` to `np.floating` is deprecated. In future, it will be treated as `np.float64 == np.dtype(float).type`.\n",
      "  from ._conv import register_converters as _register_converters\n",
      "Using TensorFlow backend.\n"
     ]
    }
   ],
   "source": [
    "from keras.models import Model, load_model,  model_from_json\n",
    "import keras.backend as K\n",
    "import tensorflow as tf\n",
    "import matplotlib.pyplot as plt\n",
    "import cv2\n",
    "import os\n",
    "from skimage.transform import rescale, resize, downscale_local_mean\n",
    "import text_detect as t\n",
    "import numpy as np"
   ]
  },
  {
   "cell_type": "code",
   "execution_count": 2,
   "metadata": {},
   "outputs": [
    {
     "name": "stdout",
     "output_type": "stream",
     "text": [
      "WARNING:tensorflow:From C:\\Users\\Aquib\\Anaconda3\\lib\\site-packages\\tensorflow\\python\\framework\\op_def_library.py:263: colocate_with (from tensorflow.python.framework.ops) is deprecated and will be removed in a future version.\n",
      "Instructions for updating:\n",
      "Colocations handled automatically by placer.\n",
      "WARNING:tensorflow:From C:\\Users\\Aquib\\Anaconda3\\lib\\site-packages\\keras\\backend\\tensorflow_backend.py:3144: calling dropout (from tensorflow.python.ops.nn_ops) with keep_prob is deprecated and will be removed in a future version.\n",
      "Instructions for updating:\n",
      "Please use `rate` instead of `keep_prob`. Rate should be set to `rate = 1 - keep_prob`.\n"
     ]
    },
    {
     "name": "stderr",
     "output_type": "stream",
     "text": [
      "C:\\Users\\Aquib\\Anaconda3\\lib\\site-packages\\keras\\models.py:282: UserWarning: No training configuration found in save file: the model was *not* compiled. Compile it manually.\n",
      "  warnings.warn('No training configuration found in save file: '\n"
     ]
    }
   ],
   "source": [
    "#loading the text recognition model and their respective weights\n",
    "textrecog_model = load_model('textrecog/text_recog_1.m')\n",
    "textrecog_model.load_weights('textrecog/text_recog_1.weights')"
   ]
  },
  {
   "cell_type": "code",
   "execution_count": 3,
   "metadata": {},
   "outputs": [],
   "source": [
    "json_file = open('textdetect/model.json', 'r')\n",
    "loaded_model_json = json_file.read()\n",
    "json_file.close()\n",
    "textdetect_model = model_from_json(loaded_model_json, custom_objects={'tf': tf, 'RESIZE_FACTOR': 2})\n",
    "textdetect_model.load_weights('textdetect/model.weights')"
   ]
  },
  {
   "cell_type": "code",
   "execution_count": 4,
   "metadata": {},
   "outputs": [
    {
     "data": {
      "text/plain": [
       "\"'\\nimg = cv2.cvtColor(img, cv2.COLOR_BGR2GRAY)   \\nblur = cv2.blur(img,(5,5))\\nth3 = cv2.adaptiveThreshold(img,255,cv2.ADAPTIVE_THRESH_MEAN_C,            cv2.THRESH_BINARY,11,2)\\nret,thresh2 = cv2.threshold(th3,127,255,cv2.THRESH_BINARY_INV)\\nplt.imshow(thresh2[200:350,1000:1700],cmap='gray')\""
      ]
     },
     "execution_count": 4,
     "metadata": {},
     "output_type": "execute_result"
    }
   ],
   "source": [
    "# For Image Enhancement removing noise \n",
    "''''\n",
    "img = cv2.cvtColor(img, cv2.COLOR_BGR2GRAY)   \n",
    "blur = cv2.blur(img,(5,5))\n",
    "th3 = cv2.adaptiveThreshold(img,255,cv2.ADAPTIVE_THRESH_MEAN_C,\\\n",
    "            cv2.THRESH_BINARY,11,2)\n",
    "ret,thresh2 = cv2.threshold(th3,127,255,cv2.THRESH_BINARY_INV)\n",
    "plt.imshow(thresh2[200:350,1000:1700],cmap='gray')'''"
   ]
  },
  {
   "cell_type": "code",
   "execution_count": 5,
   "metadata": {},
   "outputs": [],
   "source": [
    " #reading and converting to RGB\n",
    "imag = cv2.imread(\"image/img (29).jpg\")[:, :, ::-1]"
   ]
  },
  {
   "cell_type": "code",
   "execution_count": 6,
   "metadata": {},
   "outputs": [],
   "source": [
    "# Resizing image \n",
    "imag_resized, (ratio_h, ratio_w) = t.resize_image(imag)\n",
    "imag_resized = (imag_resized / 127.5) - 1"
   ]
  },
  {
   "cell_type": "code",
   "execution_count": 7,
   "metadata": {},
   "outputs": [],
   "source": [
    "# Adding new axis and predicting the score_map and geo_map in a image \n",
    "# Predicting with Model 1 Text Detection\n",
    "score_map, geo_map = textdetect_model.predict(imag_resized[np.newaxis, :, :, :])"
   ]
  },
  {
   "cell_type": "code",
   "execution_count": 8,
   "metadata": {},
   "outputs": [
    {
     "name": "stdout",
     "output_type": "stream",
     "text": [
      "1904 text boxes before nms\n"
     ]
    }
   ],
   "source": [
    "# Detecting boxes by score_map and geo_map\n",
    "boxes= t.detect(score_map=score_map, geo_map=geo_map)"
   ]
  },
  {
   "cell_type": "code",
   "execution_count": 9,
   "metadata": {},
   "outputs": [],
   "source": [
    "# Getting the cropped images by dividing to original image\n",
    "if boxes is not None:\n",
    "    boxes = boxes[:, :8].reshape((-1, 4, 2))\n",
    "    boxes[:, :, 0] /= ratio_w\n",
    "    boxes[:, :, 1] /= ratio_h"
   ]
  },
  {
   "cell_type": "code",
   "execution_count": 10,
   "metadata": {},
   "outputs": [
    {
     "data": {
      "text/plain": [
       "73"
      ]
     },
     "execution_count": 10,
     "metadata": {},
     "output_type": "execute_result"
    }
   ],
   "source": [
    "# Total 73 text box detected \n",
    "len(boxes)"
   ]
  },
  {
   "cell_type": "code",
   "execution_count": 11,
   "metadata": {},
   "outputs": [
    {
     "data": {
      "text/plain": [
       "array([[698.6028, 431.1772],\n",
       "       [781.1517, 424.4136],\n",
       "       [782.4027, 439.6511],\n",
       "       [699.8537, 446.4145]], dtype=float32)"
      ]
     },
     "execution_count": 11,
     "metadata": {},
     "output_type": "execute_result"
    }
   ],
   "source": [
    "# Detected images by 4 rows and 2 column in array\n",
    "boxes[3]"
   ]
  },
  {
   "cell_type": "code",
   "execution_count": 12,
   "metadata": {},
   "outputs": [],
   "source": [
    "lio = []\n",
    "for i in range(0,len(boxes)):\n",
    "    pts = boxes[i] # assign Each 8 points to pts\n",
    "    rect = cv2.boundingRect(pts) # Creating a rectangle by 8 points\n",
    "    x,y,w,h = rect \n",
    "    croped = imag[y:y+h, x:x+w].copy()\n",
    "    lio.append(croped) # appending every images to a list"
   ]
  },
  {
   "cell_type": "code",
   "execution_count": 13,
   "metadata": {},
   "outputs": [
    {
     "data": {
      "text/plain": [
       "array([[[ 96,  80,  83],\n",
       "        [105,  82,  88],\n",
       "        [ 98,  86,  88],\n",
       "        ...,\n",
       "        [255, 254, 255],\n",
       "        [255, 254, 255],\n",
       "        [255, 255, 255]],\n",
       "\n",
       "       [[ 96,  80,  83],\n",
       "        [101,  80,  85],\n",
       "        [101,  91,  92],\n",
       "        ...,\n",
       "        [255, 255, 255],\n",
       "        [255, 255, 253],\n",
       "        [255, 255, 253]],\n",
       "\n",
       "       [[107,  88,  92],\n",
       "        [101,  80,  85],\n",
       "        [ 98,  89,  90],\n",
       "        ...,\n",
       "        [255, 255, 253],\n",
       "        [255, 255, 253],\n",
       "        [255, 255, 253]],\n",
       "\n",
       "       ...,\n",
       "\n",
       "       [[255, 255, 255],\n",
       "        [249, 249, 249],\n",
       "        [222, 224, 221],\n",
       "        ...,\n",
       "        [255, 255, 255],\n",
       "        [255, 255, 255],\n",
       "        [255, 255, 255]],\n",
       "\n",
       "       [[255, 255, 255],\n",
       "        [255, 255, 255],\n",
       "        [253, 253, 253],\n",
       "        ...,\n",
       "        [255, 255, 255],\n",
       "        [255, 255, 255],\n",
       "        [255, 255, 255]],\n",
       "\n",
       "       [[254, 254, 254],\n",
       "        [255, 255, 255],\n",
       "        [255, 255, 255],\n",
       "        ...,\n",
       "        [255, 255, 255],\n",
       "        [253, 253, 253],\n",
       "        [253, 253, 253]]], dtype=uint8)"
      ]
     },
     "execution_count": 13,
     "metadata": {},
     "output_type": "execute_result"
    }
   ],
   "source": [
    "# cropped images in a array form\n",
    "lio[1]"
   ]
  },
  {
   "cell_type": "code",
   "execution_count": 14,
   "metadata": {},
   "outputs": [
    {
     "data": {
      "text/plain": [
       "<matplotlib.image.AxesImage at 0x24c2ed16fd0>"
      ]
     },
     "execution_count": 14,
     "metadata": {},
     "output_type": "execute_result"
    },
    {
     "data": {
      "image/png": "[encoded data removed]",
      "text/plain": [
       "<Figure size 432x288 with 1 Axes>"
      ]
     },
     "metadata": {},
     "output_type": "display_data"
    }
   ],
   "source": [
    "# This is how every cropped images will look like\n",
    "plt.imshow(lio[1])"
   ]
  },
  {
   "cell_type": "code",
   "execution_count": 15,
   "metadata": {},
   "outputs": [
    {
     "data": {
      "text/plain": [
       "<matplotlib.image.AxesImage at 0x24c2815da58>"
      ]
     },
     "execution_count": 15,
     "metadata": {},
     "output_type": "execute_result"
    },
    {
     "data": {
      "image/png": "[encoded data removed]",
      "text/plain": [
       "<Figure size 432x288 with 1 Axes>"
      ]
     },
     "metadata": {},
     "output_type": "display_data"
    }
   ],
   "source": [
    "plt.imshow(lio[0])"
   ]
  },
  {
   "cell_type": "code",
   "execution_count": 16,
   "metadata": {},
   "outputs": [
    {
     "data": {
      "text/plain": [
       "73"
      ]
     },
     "execution_count": 16,
     "metadata": {},
     "output_type": "execute_result"
    }
   ],
   "source": [
    "# Total 73 boxes \n",
    "len(lio)"
   ]
  },
  {
   "cell_type": "code",
   "execution_count": 17,
   "metadata": {},
   "outputs": [],
   "source": [
    "# Converting each image to a grayscale\n",
    "gray = []\n",
    "for i in range(0,len(boxes)):\n",
    "    img = cv2.cvtColor(lio[i], cv2.COLOR_BGR2GRAY)\n",
    "    gray.append(img)"
   ]
  },
  {
   "cell_type": "code",
   "execution_count": 18,
   "metadata": {},
   "outputs": [
    {
     "data": {
      "text/plain": [
       "<matplotlib.image.AxesImage at 0x24c28198978>"
      ]
     },
     "execution_count": 18,
     "metadata": {},
     "output_type": "execute_result"
    },
    {
     "data": {
      "image/png": "[encoded data removed]",
      "text/plain": [
       "<Figure size 432x288 with 1 Axes>"
      ]
     },
     "metadata": {},
     "output_type": "display_data"
    }
   ],
   "source": [
    "plt.imshow(gray[44],cmap='gray')"
   ]
  },
  {
   "cell_type": "code",
   "execution_count": 19,
   "metadata": {},
   "outputs": [
    {
     "data": {
      "text/plain": [
       "(33, 170)"
      ]
     },
     "execution_count": 19,
     "metadata": {},
     "output_type": "execute_result"
    }
   ],
   "source": [
    "gray[0].shape"
   ]
  },
  {
   "cell_type": "code",
   "execution_count": 20,
   "metadata": {},
   "outputs": [],
   "source": [
    "lp=[]\n",
    "for i in range(0,len(boxes)):\n",
    "    \n",
    "    # convert each image of shape (32, 128, 1)\n",
    "    w, h = gray[i].shape\n",
    "    \n",
    "    # converting each cropped images to input size\n",
    "    if h > 128 or w > 32:\n",
    "        gray[i] = cv2.resize(gray[i], (128,32)) \n",
    "        w,h = gray[i].shape\n",
    "    \n",
    "    if w < 32:\n",
    "        add_zeros = np.ones((32-w, h))*255\n",
    "        gray[i] = np.concatenate((gray[i], add_zeros))\n",
    "\n",
    "    if h < 128:\n",
    "        add_zeros = np.ones((32, 128-h))*255\n",
    "        gray[i] = np.concatenate((gray[i], add_zeros), axis=1)\n",
    "    gray[i] = np.expand_dims(gray[i] , axis = 2)\n",
    "    lp.append(gray[i])"
   ]
  },
  {
   "cell_type": "code",
   "execution_count": 21,
   "metadata": {},
   "outputs": [],
   "source": [
    "# Normalize each image\n",
    "for i in range(0,len(lp)):\n",
    "    lp[i] = lp[i]/255\n",
    "    lp = np.array(lp)"
   ]
  },
  {
   "cell_type": "code",
   "execution_count": 22,
   "metadata": {},
   "outputs": [],
   "source": [
    "# using text recognition model to detect the text in all 73 boxes\n",
    "# Predicting with Model 2 Text Recognition\n",
    "pred = textrecog_model.predict(lp)"
   ]
  },
  {
   "cell_type": "code",
   "execution_count": 23,
   "metadata": {},
   "outputs": [
    {
     "name": "stdout",
     "output_type": "stream",
     "text": [
      "WARNING:tensorflow:From C:\\Users\\Aquib\\Anaconda3\\lib\\site-packages\\keras\\backend\\tensorflow_backend.py:3989: to_int32 (from tensorflow.python.ops.math_ops) is deprecated and will be removed in a future version.\n",
      "Instructions for updating:\n",
      "Use tf.cast instead.\n",
      "WARNING:tensorflow:From C:\\Users\\Aquib\\Anaconda3\\lib\\site-packages\\keras\\backend\\tensorflow_backend.py:4002: sparse_to_dense (from tensorflow.python.ops.sparse_ops) is deprecated and will be removed in a future version.\n",
      "Instructions for updating:\n",
      "Create a `tf.sparse.SparseTensor` and use `tf.sparse.to_dense` instead.\n"
     ]
    }
   ],
   "source": [
    "# Decoding the 72 boxes prediction by ctc layer\n",
    "out = K.get_value(K.ctc_decode(pred, input_length=np.ones(pred.shape[0])*pred.shape[1],greedy=True)[0][0])"
   ]
  },
  {
   "cell_type": "code",
   "execution_count": 29,
   "metadata": {},
   "outputs": [],
   "source": [
    "alpa = ['a','b','c','d','e','f','g','h','i','j','k','l','m','n','o','p','q','r','s','t','u','v','w','x','y','z','A','B','C','D','E','F','G','H','I','J','K','L','M','N','O','P','Q','R','S','T','U','V','W','X','Y','Z','0','1','2','3','4','5','6','7','8','9']"
   ]
  },
  {
   "cell_type": "code",
   "execution_count": 30,
   "metadata": {},
   "outputs": [
    {
     "name": "stdout",
     "output_type": "stream",
     "text": [
      "predicted text = JL2CAF6866\n",
      "\n",
      "predicted text = G161BJEJN524379\n",
      "\n",
      "predicted text = HNDM4ANSM1U0\n",
      "\n",
      "predicted text = R8919H811N9\n",
      "\n",
      "predicted text = REG11\n",
      "\n",
      "predicted text = BEHNN1D0\n",
      "\n",
      "predicted text = NL2AJMUJDDUN7\n",
      "\n",
      "predicted text = MJA3EELJ91S00\n",
      "\n",
      "predicted text = T0WAL7\n",
      "\n",
      "predicted text = NFG0\n",
      "\n",
      "predicted text = ADDRES51\n",
      "\n",
      "predicted text = UJP700\n",
      "\n",
      "predicted text = 02X0412021\n",
      "\n",
      "predicted text = DELM1\n",
      "\n",
      "predicted text = 18L48581\n",
      "\n",
      "predicted text = K3M104812006\n",
      "\n",
      "predicted text = M10000\n",
      "\n",
      "predicted text = JAJNG1PUJRA1\n",
      "\n",
      "predicted text = HP1LEASE3\n",
      "\n",
      "predicted text = MFG1D7\n",
      "\n",
      "predicted text = 8N0\n",
      "\n",
      "predicted text = AU1tD01709\n",
      "\n",
      "predicted text = M0DE4\n",
      "\n",
      "predicted text = S19N41UJ18\n",
      "\n",
      "predicted text = UNL4ADEN1\n",
      "\n",
      "predicted text = SUBHAS1\n",
      "\n",
      "predicted text = SEA71NG4\n",
      "\n",
      "predicted text = MATH1UR44\n",
      "\n",
      "predicted text = TAX\n",
      "\n",
      "predicted text = N03\n",
      "\n",
      "predicted text = CH1AJND0\n",
      "\n",
      "predicted text = B4A58\n",
      "\n",
      "predicted text = 4SM9\n",
      "\n",
      "predicted text = WHEE4\n",
      "\n",
      "predicted text = ELALEN01\n",
      "\n",
      "predicted text = CU1CALP\n",
      "\n",
      "predicted text = 0FCY1\n",
      "\n",
      "predicted text = LUJP70\n",
      "\n",
      "predicted text = bep0t\n",
      "\n",
      "predicted text = B0DY\n",
      "\n",
      "predicted text = PRATAJP\n",
      "\n",
      "predicted text = NA4M8\n",
      "\n",
      "predicted text = S1V0V410\n",
      "\n",
      "predicted text = S1L1KY\n",
      "\n",
      "predicted text = C0L0UR\n",
      "\n",
      "predicted text = CLA55\n",
      "\n",
      "predicted text = SAL001\n",
      "\n",
      "predicted text = RE6\n",
      "\n",
      "predicted text = EA57\n",
      "\n",
      "predicted text = 20C0L1\n",
      "\n",
      "predicted text = S17ANDJN6\n",
      "\n",
      "predicted text = RE6\n",
      "\n",
      "predicted text = SMLY\n",
      "\n",
      "predicted text = P80CN6\n",
      "\n",
      "predicted text = A7A1\n",
      "\n",
      "predicted text = 077\n",
      "\n",
      "predicted text = MU4\n",
      "\n",
      "predicted text = CR0A00\n",
      "\n",
      "predicted text = LJMA4\n",
      "\n",
      "predicted text = 1MK7\n",
      "\n",
      "predicted text = FUJE4\n",
      "\n",
      "predicted text = CH6\n",
      "\n",
      "predicted text = 0184\n",
      "\n",
      "predicted text = BS3\n",
      "\n",
      "predicted text = A580\n",
      "\n",
      "predicted text = SH1S1\n",
      "\n",
      "predicted text = JA420055\n",
      "\n",
      "predicted text = 0LX1\n",
      "\n",
      "predicted text = 1N0\n",
      "\n",
      "predicted text = N00\n",
      "\n",
      "predicted text = 100F\n",
      "\n",
      "predicted text = D75\n",
      "\n",
      "predicted text = 3N1W7\n",
      "\n"
     ]
    }
   ],
   "source": [
    "for x in out:\n",
    "    print(\"predicted text = \", end = '')\n",
    "    for p in x:  \n",
    "        if int(p) != -1:\n",
    "            #  alpha[1] gives b decoding the outputs\n",
    "            print(alpa[int(p)], end = '')       \n",
    "    print('\\n')"
   ]
  },
  {
   "cell_type": "code",
   "execution_count": null,
   "metadata": {},
   "outputs": [],
   "source": []
  }
 ],
 "metadata": {
  "kernelspec": {
   "display_name": "Python 3",
   "language": "python",
   "name": "python3"
  },
  "language_info": {
   "codemirror_mode": {
    "name": "ipython",
    "version": 3
   },
   "file_extension": ".py",
   "mimetype": "text/x-python",
   "name": "python",
   "nbconvert_exporter": "python",
   "pygments_lexer": "ipython3",
   "version": "3.6.5"
  },
  "varInspector": {
   "cols": {
    "lenName": 16,
    "lenType": 16,
    "lenVar": 40
   },
   "kernels_config": {
    "python": {
     "delete_cmd_postfix": "",
     "delete_cmd_prefix": "del ",
     "library": "var_list.py",
     "varRefreshCmd": "print(var_dic_list())"
    },
    "r": {
     "delete_cmd_postfix": ") ",
     "delete_cmd_prefix": "rm(",
     "library": "var_list.r",
     "varRefreshCmd": "cat(var_dic_list()) "
    }
   },
   "types_to_exclude": [
    "module",
    "function",
    "builtin_function_or_method",
    "instance",
    "_Feature"
   ],
   "window_display": false
  }
 },
 "nbformat": 4,
 "nbformat_minor": 2
}
