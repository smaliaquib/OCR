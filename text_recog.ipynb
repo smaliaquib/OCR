{
  "nbformat": 4,
  "nbformat_minor": 0,
  "metadata": {
    "colab": {
      "name": "Untitled3.ipynb",
      "version": "0.3.2",
      "provenance": [],
      "collapsed_sections": [],
      "machine_shape": "hm"
    },
    "kernelspec": {
      "name": "python3",
      "display_name": "Python 3"
    },
    "accelerator": "GPU"
  },
  "cells": [
    {
      "cell_type": "code",
      "metadata": {
        "id": "RxeggS_hdO4V",
        "colab_type": "code",
        "outputId": "50f29ca7-a9fc-47a5-b3b0-224db80592b3",
        "colab": {
          "base_uri": "https://localhost:8080/",
          "height": 34
        }
      },
      "source": [
        "import os\n",
        "import fnmatch\n",
        "import cv2\n",
        "import numpy as np\n",
        "import string\n",
        "import time\n",
        "from keras.layers.recurrent import GRU\n",
        "from PIL import ImageFont, ImageDraw, Image  \n",
        "from random import randint\n",
        "from keras.preprocessing.sequence import pad_sequences\n",
        "from keras.layers.merge import add, concatenate\n",
        "from keras.layers import Dense, LSTM, Reshape, BatchNormalization, Input, Conv2D, MaxPool2D, Lambda, Bidirectional\n",
        "from keras.models import Model,load_model\n",
        "from keras.activations import relu, sigmoid, softmax\n",
        "import keras.backend as K\n",
        "from keras.utils import to_categorical\n",
        "from keras.callbacks import ModelCheckpoint"
      ],
      "execution_count": 0,
      "outputs": [
        {
          "output_type": "stream",
          "text": [
            "Using TensorFlow backend.\n"
          ],
          "name": "stderr"
        }
      ]
    },
    {
      "cell_type": "code",
      "metadata": {
        "id": "Ch-6xuXINxSn",
        "colab_type": "code",
        "colab": {}
      },
      "source": [
        "!rm -rf ReCo"
      ],
      "execution_count": 0,
      "outputs": []
    },
    {
      "cell_type": "code",
      "metadata": {
        "id": "z-iGWVjldTrr",
        "colab_type": "code",
        "outputId": "199e70df-e12c-4e24-9cd7-6673f376c6c5",
        "colab": {
          "base_uri": "https://localhost:8080/",
          "height": 202
        }
      },
      "source": [
        "!wget https://www.robots.ox.ac.uk/~vgg/data/text/mjsynth.tar.gz"
      ],
      "execution_count": 0,
      "outputs": [
        {
          "output_type": "stream",
          "text": [
            "--2019-08-09 04:22:40--  https://www.robots.ox.ac.uk/~vgg/data/text/mjsynth.tar.gz\n",
            "Resolving www.robots.ox.ac.uk (www.robots.ox.ac.uk)... 129.67.94.2\n",
            "Connecting to www.robots.ox.ac.uk (www.robots.ox.ac.uk)|129.67.94.2|:443... connected.\n",
            "HTTP request sent, awaiting response... 200 OK\n",
            "Length: 10678411583 (9.9G) [application/x-gzip]\n",
            "Saving to: ‘mjsynth.tar.gz’\n",
            "\n",
            "mjsynth.tar.gz      100%[===================>]   9.94G  31.3MB/s    in 5m 28s  \n",
            "\n",
            "2019-08-09 04:28:08 (31.1 MB/s) - ‘mjsynth.tar.gz’ saved [10678411583/10678411583]\n",
            "\n"
          ],
          "name": "stdout"
        }
      ]
    },
    {
      "cell_type": "code",
      "metadata": {
        "id": "OuMH8C7adn5p",
        "colab_type": "code",
        "outputId": "d06d82b0-b707-4722-ad36-d9d6827e43a0",
        "colab": {
          "base_uri": "https://localhost:8080/",
          "height": 121
        }
      },
      "source": [
        "!pip install patool"
      ],
      "execution_count": 0,
      "outputs": [
        {
          "output_type": "stream",
          "text": [
            "Collecting patool\n",
            "\u001b[?25l  Downloading https://files.pythonhosted.org/packages/43/94/52243ddff508780dd2d8110964320ab4851134a55ab102285b46e740f76a/patool-1.12-py2.py3-none-any.whl (77kB)\n",
            "\r\u001b[K     |████▎                           | 10kB 17.5MB/s eta 0:00:01\r\u001b[K     |████████▌                       | 20kB 1.8MB/s eta 0:00:01\r\u001b[K     |████████████▊                   | 30kB 2.6MB/s eta 0:00:01\r\u001b[K     |█████████████████               | 40kB 1.7MB/s eta 0:00:01\r\u001b[K     |█████████████████████▏          | 51kB 2.1MB/s eta 0:00:01\r\u001b[K     |█████████████████████████▍      | 61kB 2.5MB/s eta 0:00:01\r\u001b[K     |█████████████████████████████▋  | 71kB 2.9MB/s eta 0:00:01\r\u001b[K     |████████████████████████████████| 81kB 3.1MB/s \n",
            "\u001b[?25hInstalling collected packages: patool\n",
            "Successfully installed patool-1.12\n"
          ],
          "name": "stdout"
        }
      ]
    },
    {
      "cell_type": "code",
      "metadata": {
        "id": "-HV5bIiUxfW0",
        "colab_type": "code",
        "colab": {}
      },
      "source": [
        "import patoolib"
      ],
      "execution_count": 0,
      "outputs": []
    },
    {
      "cell_type": "code",
      "metadata": {
        "id": "4sa4qlHWxYco",
        "colab_type": "code",
        "outputId": "48d49dc4-c161-440c-b854-2157400473ca",
        "colab": {
          "base_uri": "https://localhost:8080/",
          "height": 17
        }
      },
      "source": [
        "patoolib.extract_archive('mjsynth.tar.gz',outdir='/content')"
      ],
      "execution_count": 0,
      "outputs": [
        {
          "output_type": "stream",
          "text": [
            "patool: Extracting mjsynth.tar.gz ...\n",
            "patool: running /bin/tar --extract -z --file mjsynth.tar.gz --directory /content\n"
          ],
          "name": "stdout"
        }
      ]
    },
    {
      "cell_type": "markdown",
      "metadata": {
        "id": "gSVhs5hPoqsh",
        "colab_type": "text"
      },
      "source": [
        "<h1>Training On Synthetic Dataset<h1>"
      ]
    },
    {
      "cell_type": "code",
      "metadata": {
        "id": "BrsDLoDwhEVC",
        "colab_type": "code",
        "colab": {}
      },
      "source": [
        "#char_list:   'abcdefghijklmnopqrstuvwxyzABCDEFGHIJKLMNOPQRSTUVWXYZ0123456789'\n",
        "# total number of our output classes: len(char_list)\n",
        "char_list = string.ascii_letters+string.digits\n",
        " \n",
        "def encode_to_labels(txt):\n",
        "    # encoding each output word into digits\n",
        "    dig_lst = []\n",
        "    for index, char in enumerate(txt):\n",
        "        try:\n",
        "            dig_lst.append(char_list.index(char))\n",
        "        except:\n",
        "            print(char)\n",
        "        \n",
        "    return dig_lst"
      ],
      "execution_count": 0,
      "outputs": []
    },
    {
      "cell_type": "code",
      "metadata": {
        "id": "QTetfn3gha3w",
        "colab_type": "code",
        "colab": {}
      },
      "source": [
        "path = 'mnt/ramdisk/max/90kDICT32px'\n",
        " \n",
        "# lists for training dataset\n",
        "training_img = []\n",
        "training_txt = []\n",
        "train_input_length = []\n",
        "train_label_length = []\n",
        "orig_txt = []\n",
        " \n",
        "#lists for validation dataset\n",
        "valid_img = []\n",
        "valid_txt = []\n",
        "valid_input_length = []\n",
        "valid_label_length = []\n",
        "valid_orig_txt = []\n",
        " \n",
        "max_label_len = 0\n",
        " \n",
        "i =1 \n",
        "flag = 0\n",
        " \n",
        "for root, dirnames, filenames in os.walk(path):\n",
        " \n",
        "    for f_name in fnmatch.filter(filenames, '*.jpg'):\n",
        "        # read input image and convert into gray scale image\n",
        "        c = cv2.imread(os.path.join(root, f_name))\n",
        "        img = cv2.cvtColor(c, cv2.COLOR_BGR2GRAY)\n",
        " \n",
        "        # convert image into shape of (32, 128, 1)\n",
        "        w, h = img.shape\n",
        "        if h > 128 or w > 32:\n",
        "            img = cv2.resize(img, (128,32))\n",
        "            w,h = img.shape\n",
        "        if w < 32:\n",
        "            add_zeros = np.ones((32-w, h))*255\n",
        "            img = np.concatenate((img, add_zeros))\n",
        " \n",
        "        if h < 128:\n",
        "            add_zeros = np.ones((32, 128-h))*255\n",
        "            img = np.concatenate((img, add_zeros), axis=1)\n",
        "        img = np.expand_dims(img , axis = 2)\n",
        "        \n",
        "        # Normalize each image\n",
        "        img = img/255.\n",
        "        \n",
        "        # get the text from the image\n",
        "        txt = f_name.split('_')[1]\n",
        "        \n",
        "        #max len of the text\n",
        "        if len(txt) > max_label_len:\n",
        "            max_label_len = len(txt)\n",
        "            \n",
        "           \n",
        "        # split data into validation and training dataset as 10% and 90% respectively\n",
        "        if i%10 == 0:\n",
        "            valid_orig_txt.append(txt)   \n",
        "            valid_label_length.append(len(txt))\n",
        "            valid_input_length.append(31)\n",
        "            valid_img.append(img)\n",
        "            valid_txt.append(encode_to_labels(txt))\n",
        "        else:\n",
        "            orig_txt.append(txt)   \n",
        "            train_label_length.append(len(txt))\n",
        "            train_input_length.append(31)\n",
        "            training_img.append(img)\n",
        "            training_txt.append(encode_to_labels(txt)) \n",
        "        \n",
        "        \n",
        "        if i == 300000:\n",
        "            flag = 1\n",
        "            break\n",
        "        i+=1\n",
        "    if flag == 1:\n",
        "        break"
      ],
      "execution_count": 0,
      "outputs": []
    },
    {
      "cell_type": "code",
      "metadata": {
        "id": "px5K9L90iIOr",
        "colab_type": "code",
        "outputId": "c6dfa35c-2459-401d-f0a6-03048b32d7a0",
        "colab": {
          "base_uri": "https://localhost:8080/",
          "height": 34
        }
      },
      "source": [
        "max_label_len"
      ],
      "execution_count": 0,
      "outputs": [
        {
          "output_type": "execute_result",
          "data": {
            "text/plain": [
              "22"
            ]
          },
          "metadata": {
            "tags": []
          },
          "execution_count": 9
        }
      ]
    },
    {
      "cell_type": "code",
      "metadata": {
        "id": "ShrbjTI2YalG",
        "colab_type": "code",
        "outputId": "b6043e7a-99fe-4459-e698-fd39254ded6d",
        "colab": {
          "base_uri": "https://localhost:8080/",
          "height": 34
        }
      },
      "source": [
        "len(train_input_length)"
      ],
      "execution_count": 0,
      "outputs": [
        {
          "output_type": "execute_result",
          "data": {
            "text/plain": [
              "270000"
            ]
          },
          "metadata": {
            "tags": []
          },
          "execution_count": 10
        }
      ]
    },
    {
      "cell_type": "code",
      "metadata": {
        "id": "hc59XLBh8H0y",
        "colab_type": "code",
        "colab": {}
      },
      "source": [
        "# pad each output to maximum text length (22)\n",
        "train_padded_txt = pad_sequences(training_txt, maxlen=max_label_len, padding='post', value = len(char_list))\n",
        "valid_padded_txt = pad_sequences(valid_txt, maxlen=max_label_len, padding='post', value = len(char_list))"
      ],
      "execution_count": 0,
      "outputs": []
    },
    {
      "cell_type": "code",
      "metadata": {
        "id": "TrdlbE6e8h34",
        "colab_type": "code",
        "outputId": "f826f624-126d-4b98-c86a-6ff9bc8e373a",
        "colab": {
          "base_uri": "https://localhost:8080/",
          "height": 339
        }
      },
      "source": [
        "#Input in Model in shape of number of images, number of rows, number of colums , number of channel \n",
        "\n",
        "# input shape row=32 and col=128 channel=1\n",
        "inputs = Input(shape=(32,128,1))\n",
        "# Convolution Layer\n",
        "\n",
        "# 1st Convolution Layer kernel size (3,3)\n",
        "x = Conv2D(64, (3,3), activation = 'relu', padding='same', name='conv1')(inputs)\n",
        "x = MaxPool2D(pool_size=(2, 2), strides=2 , name='max1')(x)\n",
        " \n",
        "# 2nd Convolution Layer kernel size (3,3)\n",
        "x = Conv2D(128, (3,3), activation = 'relu', padding='same' , name='conv2')(x)\n",
        "x = MaxPool2D(pool_size=(2, 2), strides=2 , name='max2')(x)\n",
        " \n",
        "# 3rd Convolution Layer kernel size (3,3)\n",
        "x = Conv2D(256, (3,3), activation = 'relu', padding='same',name='conv3')(x)\n",
        " \n",
        "# 4th Convolution Layer kernel size (3,3)\n",
        "x = Conv2D(256, (3,3), activation = 'relu', padding='same',name='conv4')(x)\n",
        "x = MaxPool2D(pool_size=(2, 1) , name='max3')(x)\n",
        " \n",
        "# 5th Convolution Layer kernel size (3,3)\n",
        "x = Conv2D(512, (3,3), activation = 'relu', padding='same',name='conv5')(x)\n",
        "x = BatchNormalization()(x)\n",
        " \n",
        "# 6th Convolution Layer kernel size (3,3)\n",
        "x = Conv2D(512, (3,3), activation = 'relu', padding='same',name='conv6')(x)\n",
        "x = BatchNormalization()(x)\n",
        "x = MaxPool2D(pool_size=(2, 1) , name='max4')(x)\n",
        " \n",
        "# 7th Convolution Layer\n",
        "x = Conv2D(512, (2,2), activation = 'relu',name='conv7')(x)\n",
        " \n",
        "# Making input compatible with BILSTM\n",
        "squeezed = Lambda(lambda x: K.squeeze(x, 1))(x)\n",
        " \n",
        "# Bidirectional LSTM layers 128 units\n",
        "bilstm1 = Bidirectional(LSTM(128, return_sequences=True, dropout = 0.2,name='lstm1'))(squeezed)\n",
        "bilstm2 = Bidirectional(LSTM(128, return_sequences=True, dropout = 0.2,name='lstm2'))(bilstm1)\n",
        " \n",
        "outputs = Dense(len(char_list)+1, activation = 'softmax')(bilstm2)\n",
        "\n",
        "# Test Model\n",
        "active_model = Model(inputs, outputs)"
      ],
      "execution_count": 0,
      "outputs": [
        {
          "output_type": "stream",
          "text": [
            "WARNING: Logging before flag parsing goes to stderr.\n",
            "W0808 13:11:30.522094 139934190012288 deprecation_wrapper.py:119] From /usr/local/lib/python3.6/dist-packages/keras/backend/tensorflow_backend.py:74: The name tf.get_default_graph is deprecated. Please use tf.compat.v1.get_default_graph instead.\n",
            "\n",
            "W0808 13:11:30.595730 139934190012288 deprecation_wrapper.py:119] From /usr/local/lib/python3.6/dist-packages/keras/backend/tensorflow_backend.py:517: The name tf.placeholder is deprecated. Please use tf.compat.v1.placeholder instead.\n",
            "\n",
            "W0808 13:11:30.629390 139934190012288 deprecation_wrapper.py:119] From /usr/local/lib/python3.6/dist-packages/keras/backend/tensorflow_backend.py:4138: The name tf.random_uniform is deprecated. Please use tf.random.uniform instead.\n",
            "\n",
            "W0808 13:11:30.672574 139934190012288 deprecation_wrapper.py:119] From /usr/local/lib/python3.6/dist-packages/keras/backend/tensorflow_backend.py:3976: The name tf.nn.max_pool is deprecated. Please use tf.nn.max_pool2d instead.\n",
            "\n",
            "W0808 13:11:30.748741 139934190012288 deprecation_wrapper.py:119] From /usr/local/lib/python3.6/dist-packages/keras/backend/tensorflow_backend.py:174: The name tf.get_default_session is deprecated. Please use tf.compat.v1.get_default_session instead.\n",
            "\n",
            "W0808 13:11:30.749897 139934190012288 deprecation_wrapper.py:119] From /usr/local/lib/python3.6/dist-packages/keras/backend/tensorflow_backend.py:181: The name tf.ConfigProto is deprecated. Please use tf.compat.v1.ConfigProto instead.\n",
            "\n",
            "W0808 13:11:33.962981 139934190012288 deprecation_wrapper.py:119] From /usr/local/lib/python3.6/dist-packages/keras/backend/tensorflow_backend.py:1834: The name tf.nn.fused_batch_norm is deprecated. Please use tf.compat.v1.nn.fused_batch_norm instead.\n",
            "\n",
            "W0808 13:11:34.433078 139934190012288 deprecation.py:506] From /usr/local/lib/python3.6/dist-packages/keras/backend/tensorflow_backend.py:3445: calling dropout (from tensorflow.python.ops.nn_ops) with keep_prob is deprecated and will be removed in a future version.\n",
            "Instructions for updating:\n",
            "Please use `rate` instead of `keep_prob`. Rate should be set to `rate = 1 - keep_prob`.\n"
          ],
          "name": "stderr"
        }
      ]
    },
    {
      "cell_type": "code",
      "metadata": {
        "id": "uHdCIBjC8osh",
        "colab_type": "code",
        "outputId": "f0fe4cdd-d4a4-4286-f132-7d5ae3472881",
        "colab": {
          "base_uri": "https://localhost:8080/",
          "height": 739
        }
      },
      "source": [
        "active_model.summary()"
      ],
      "execution_count": 0,
      "outputs": [
        {
          "output_type": "stream",
          "text": [
            "_________________________________________________________________\n",
            "Layer (type)                 Output Shape              Param #   \n",
            "=================================================================\n",
            "input_1 (InputLayer)         (None, 32, 128, 1)        0         \n",
            "_________________________________________________________________\n",
            "conv1 (Conv2D)               (None, 32, 128, 64)       640       \n",
            "_________________________________________________________________\n",
            "max1 (MaxPooling2D)          (None, 16, 64, 64)        0         \n",
            "_________________________________________________________________\n",
            "conv2 (Conv2D)               (None, 16, 64, 128)       73856     \n",
            "_________________________________________________________________\n",
            "max2 (MaxPooling2D)          (None, 8, 32, 128)        0         \n",
            "_________________________________________________________________\n",
            "conv3 (Conv2D)               (None, 8, 32, 256)        295168    \n",
            "_________________________________________________________________\n",
            "conv4 (Conv2D)               (None, 8, 32, 256)        590080    \n",
            "_________________________________________________________________\n",
            "max3 (MaxPooling2D)          (None, 4, 32, 256)        0         \n",
            "_________________________________________________________________\n",
            "conv5 (Conv2D)               (None, 4, 32, 512)        1180160   \n",
            "_________________________________________________________________\n",
            "batch_normalization_1 (Batch (None, 4, 32, 512)        2048      \n",
            "_________________________________________________________________\n",
            "conv6 (Conv2D)               (None, 4, 32, 512)        2359808   \n",
            "_________________________________________________________________\n",
            "batch_normalization_2 (Batch (None, 4, 32, 512)        2048      \n",
            "_________________________________________________________________\n",
            "max4 (MaxPooling2D)          (None, 2, 32, 512)        0         \n",
            "_________________________________________________________________\n",
            "conv7 (Conv2D)               (None, 1, 31, 512)        1049088   \n",
            "_________________________________________________________________\n",
            "lambda_1 (Lambda)            (None, 31, 512)           0         \n",
            "_________________________________________________________________\n",
            "bidirectional_1 (Bidirection (None, 31, 256)           656384    \n",
            "_________________________________________________________________\n",
            "bidirectional_2 (Bidirection (None, 31, 256)           394240    \n",
            "_________________________________________________________________\n",
            "dense_1 (Dense)              (None, 31, 63)            16191     \n",
            "=================================================================\n",
            "Total params: 6,619,711\n",
            "Trainable params: 6,617,663\n",
            "Non-trainable params: 2,048\n",
            "_________________________________________________________________\n"
          ],
          "name": "stdout"
        }
      ]
    },
    {
      "cell_type": "code",
      "metadata": {
        "id": "fG7MSGBIQYEf",
        "colab_type": "code",
        "outputId": "27d55324-7df5-493e-895e-8bc6cdb716bc",
        "colab": {
          "base_uri": "https://localhost:8080/",
          "height": 34
        }
      },
      "source": [
        "max_label_len"
      ],
      "execution_count": 0,
      "outputs": [
        {
          "output_type": "execute_result",
          "data": {
            "text/plain": [
              "22"
            ]
          },
          "metadata": {
            "tags": []
          },
          "execution_count": 14
        }
      ]
    },
    {
      "cell_type": "code",
      "metadata": {
        "id": "DhiSDuS-8tVn",
        "colab_type": "code",
        "outputId": "dd68fa41-25c0-46ec-e9b8-288be9223241",
        "colab": {
          "base_uri": "https://localhost:8080/",
          "height": 188
        }
      },
      "source": [
        "labels = Input(name='the_labels', shape=[max_label_len], dtype='float32')\n",
        "input_length = Input(name='input_length', shape=[1], dtype='int64')\n",
        "label_length = Input(name='label_length', shape=[1], dtype='int64')\n",
        " \n",
        "def ctc_lambda_func(args):\n",
        "    y_pred, labels, input_length, label_length = args\n",
        " \n",
        "    return K.ctc_batch_cost(labels, y_pred, input_length, label_length)\n",
        " \n",
        "loss_out = Lambda(ctc_lambda_func, output_shape=(1,), name='ctc')([outputs, labels, input_length, label_length])\n",
        "\n",
        "#model will be used at training time\n",
        "model = Model(inputs=[inputs, labels, input_length, label_length], outputs=loss_out)"
      ],
      "execution_count": 0,
      "outputs": [
        {
          "output_type": "stream",
          "text": [
            "W0808 13:11:35.713020 139934190012288 deprecation.py:323] From /usr/local/lib/python3.6/dist-packages/keras/backend/tensorflow_backend.py:4249: to_int32 (from tensorflow.python.ops.math_ops) is deprecated and will be removed in a future version.\n",
            "Instructions for updating:\n",
            "Use `tf.cast` instead.\n",
            "W0808 13:11:35.828937 139934190012288 deprecation.py:323] From /usr/local/lib/python3.6/dist-packages/tensorflow/python/ops/array_ops.py:1354: add_dispatch_support.<locals>.wrapper (from tensorflow.python.ops.array_ops) is deprecated and will be removed in a future version.\n",
            "Instructions for updating:\n",
            "Use tf.where in 2.0, which has the same broadcast rule as np.where\n",
            "W0808 13:11:35.872643 139934190012288 deprecation.py:323] From /usr/local/lib/python3.6/dist-packages/keras/backend/tensorflow_backend.py:4229: to_int64 (from tensorflow.python.ops.math_ops) is deprecated and will be removed in a future version.\n",
            "Instructions for updating:\n",
            "Use `tf.cast` instead.\n"
          ],
          "name": "stderr"
        }
      ]
    },
    {
      "cell_type": "code",
      "metadata": {
        "id": "PD3JU9CeQkGd",
        "colab_type": "code",
        "outputId": "875d3407-0814-4263-fdd9-4535d692d3fb",
        "colab": {
          "base_uri": "https://localhost:8080/",
          "height": 924
        }
      },
      "source": [
        "model.summary()"
      ],
      "execution_count": 0,
      "outputs": [
        {
          "output_type": "stream",
          "text": [
            "__________________________________________________________________________________________________\n",
            "Layer (type)                    Output Shape         Param #     Connected to                     \n",
            "==================================================================================================\n",
            "input_1 (InputLayer)            (None, 32, 128, 1)   0                                            \n",
            "__________________________________________________________________________________________________\n",
            "conv1 (Conv2D)                  (None, 32, 128, 64)  640         input_1[0][0]                    \n",
            "__________________________________________________________________________________________________\n",
            "max1 (MaxPooling2D)             (None, 16, 64, 64)   0           conv1[0][0]                      \n",
            "__________________________________________________________________________________________________\n",
            "conv2 (Conv2D)                  (None, 16, 64, 128)  73856       max1[0][0]                       \n",
            "__________________________________________________________________________________________________\n",
            "max2 (MaxPooling2D)             (None, 8, 32, 128)   0           conv2[0][0]                      \n",
            "__________________________________________________________________________________________________\n",
            "conv3 (Conv2D)                  (None, 8, 32, 256)   295168      max2[0][0]                       \n",
            "__________________________________________________________________________________________________\n",
            "conv4 (Conv2D)                  (None, 8, 32, 256)   590080      conv3[0][0]                      \n",
            "__________________________________________________________________________________________________\n",
            "max3 (MaxPooling2D)             (None, 4, 32, 256)   0           conv4[0][0]                      \n",
            "__________________________________________________________________________________________________\n",
            "conv5 (Conv2D)                  (None, 4, 32, 512)   1180160     max3[0][0]                       \n",
            "__________________________________________________________________________________________________\n",
            "batch_normalization_1 (BatchNor (None, 4, 32, 512)   2048        conv5[0][0]                      \n",
            "__________________________________________________________________________________________________\n",
            "conv6 (Conv2D)                  (None, 4, 32, 512)   2359808     batch_normalization_1[0][0]      \n",
            "__________________________________________________________________________________________________\n",
            "batch_normalization_2 (BatchNor (None, 4, 32, 512)   2048        conv6[0][0]                      \n",
            "__________________________________________________________________________________________________\n",
            "max4 (MaxPooling2D)             (None, 2, 32, 512)   0           batch_normalization_2[0][0]      \n",
            "__________________________________________________________________________________________________\n",
            "conv7 (Conv2D)                  (None, 1, 31, 512)   1049088     max4[0][0]                       \n",
            "__________________________________________________________________________________________________\n",
            "lambda_1 (Lambda)               (None, 31, 512)      0           conv7[0][0]                      \n",
            "__________________________________________________________________________________________________\n",
            "bidirectional_1 (Bidirectional) (None, 31, 256)      656384      lambda_1[0][0]                   \n",
            "__________________________________________________________________________________________________\n",
            "bidirectional_2 (Bidirectional) (None, 31, 256)      394240      bidirectional_1[0][0]            \n",
            "__________________________________________________________________________________________________\n",
            "dense_1 (Dense)                 (None, 31, 63)       16191       bidirectional_2[0][0]            \n",
            "__________________________________________________________________________________________________\n",
            "the_labels (InputLayer)         (None, 22)           0                                            \n",
            "__________________________________________________________________________________________________\n",
            "input_length (InputLayer)       (None, 1)            0                                            \n",
            "__________________________________________________________________________________________________\n",
            "label_length (InputLayer)       (None, 1)            0                                            \n",
            "__________________________________________________________________________________________________\n",
            "ctc (Lambda)                    (None, 1)            0           dense_1[0][0]                    \n",
            "                                                                 the_labels[0][0]                 \n",
            "                                                                 input_length[0][0]               \n",
            "                                                                 label_length[0][0]               \n",
            "==================================================================================================\n",
            "Total params: 6,619,711\n",
            "Trainable params: 6,617,663\n",
            "Non-trainable params: 2,048\n",
            "__________________________________________________________________________________________________\n"
          ],
          "name": "stdout"
        }
      ]
    },
    {
      "cell_type": "code",
      "metadata": {
        "id": "QHSr-Rzl8020",
        "colab_type": "code",
        "outputId": "172a2040-3fb7-4f81-afd1-7f96c6ac7948",
        "colab": {
          "base_uri": "https://localhost:8080/",
          "height": 70
        }
      },
      "source": [
        "model.compile(loss={'ctc': lambda y_true, y_pred: y_pred}, optimizer = 'adam',metrics=['accuracy'])\n",
        " \n",
        "filepath=\"txt_recog.weights\"\n",
        "checkpoint = ModelCheckpoint(filepath=filepath, monitor='val_loss', verbose=1, save_best_only=True, mode='auto')\n",
        "callbacks_list = [checkpoint]"
      ],
      "execution_count": 0,
      "outputs": [
        {
          "output_type": "stream",
          "text": [
            "W0808 13:11:35.912228 139934190012288 deprecation_wrapper.py:119] From /usr/local/lib/python3.6/dist-packages/keras/optimizers.py:790: The name tf.train.Optimizer is deprecated. Please use tf.compat.v1.train.Optimizer instead.\n",
            "\n"
          ],
          "name": "stderr"
        }
      ]
    },
    {
      "cell_type": "code",
      "metadata": {
        "id": "kb6UWy87RxmB",
        "colab_type": "code",
        "outputId": "9edfce05-380f-4787-afa2-8a7d770f5c3a",
        "colab": {
          "base_uri": "https://localhost:8080/",
          "height": 34
        }
      },
      "source": [
        "train_input_length[10]"
      ],
      "execution_count": 0,
      "outputs": [
        {
          "output_type": "execute_result",
          "data": {
            "text/plain": [
              "31"
            ]
          },
          "metadata": {
            "tags": []
          },
          "execution_count": 18
        }
      ]
    },
    {
      "cell_type": "code",
      "metadata": {
        "id": "YE-1wci38600",
        "colab_type": "code",
        "colab": {}
      },
      "source": [
        "training_img = np.array(training_img)\n",
        "train_input_length = np.array(train_input_length)\n",
        "train_label_length = np.array(train_label_length)\n",
        "\n",
        "valid_img = np.array(valid_img)\n",
        "valid_input_length = np.array(valid_input_length)\n",
        "valid_label_length = np.array(valid_label_length)"
      ],
      "execution_count": 0,
      "outputs": []
    },
    {
      "cell_type": "code",
      "metadata": {
        "id": "dZZDYu9F898e",
        "colab_type": "code",
        "outputId": "51f29434-831b-45f6-c5e5-24bbd0a6029a",
        "colab": {
          "base_uri": "https://localhost:8080/",
          "height": 790
        }
      },
      "source": [
        "batch_size = 500\n",
        "epochs = 11\n",
        "model.fit(x=[training_img, train_padded_txt, train_input_length, train_label_length], y=np.zeros(len(training_img)), batch_size=batch_size, epochs = epochs, validation_data = ([valid_img, valid_padded_txt, valid_input_length, valid_label_length], [np.zeros(len(valid_img))]), verbose = 1, callbacks = callbacks_list)"
      ],
      "execution_count": 0,
      "outputs": [
        {
          "output_type": "stream",
          "text": [
            "Train on 270000 samples, validate on 30000 samples\n",
            "Epoch 1/11\n",
            "270000/270000 [==============================] - 764s 3ms/step - loss: 28.4864 - acc: 0.0000e+00 - val_loss: 29.3895 - val_acc: 0.0000e+00\n",
            "\n",
            "Epoch 00001: val_loss improved from inf to 29.38946, saving model to txt_recog.weights\n",
            "Epoch 2/11\n",
            "270000/270000 [==============================] - 749s 3ms/step - loss: 9.5211 - acc: 0.1166 - val_loss: 4.6124 - val_acc: 0.3541\n",
            "\n",
            "Epoch 00002: val_loss improved from 29.38946 to 4.61241, saving model to txt_recog.weights\n",
            "Epoch 3/11\n",
            "270000/270000 [==============================] - 744s 3ms/step - loss: 4.0290 - acc: 0.4212 - val_loss: 3.7184 - val_acc: 0.5182\n",
            "\n",
            "Epoch 00003: val_loss improved from 4.61241 to 3.71835, saving model to txt_recog.weights\n",
            "Epoch 4/11\n",
            "270000/270000 [==============================] - 739s 3ms/step - loss: 3.1689 - acc: 0.5349 - val_loss: 3.1426 - val_acc: 0.5809\n",
            "\n",
            "Epoch 00004: val_loss improved from 3.71835 to 3.14263, saving model to txt_recog.weights\n",
            "Epoch 5/11\n",
            "270000/270000 [==============================] - 742s 3ms/step - loss: 2.7274 - acc: 0.5889 - val_loss: 3.0327 - val_acc: 0.5349\n",
            "\n",
            "Epoch 00005: val_loss improved from 3.14263 to 3.03269, saving model to txt_recog.weights\n",
            "Epoch 6/11\n",
            "270000/270000 [==============================] - 742s 3ms/step - loss: 2.4443 - acc: 0.6243 - val_loss: 2.9359 - val_acc: 0.5914\n",
            "\n",
            "Epoch 00006: val_loss improved from 3.03269 to 2.93592, saving model to txt_recog.weights\n",
            "Epoch 7/11\n",
            "270000/270000 [==============================] - 739s 3ms/step - loss: 2.2323 - acc: 0.6520 - val_loss: 2.7936 - val_acc: 0.6262\n",
            "\n",
            "Epoch 00007: val_loss improved from 2.93592 to 2.79363, saving model to txt_recog.weights\n",
            "Epoch 8/11\n",
            "270000/270000 [==============================] - 743s 3ms/step - loss: 2.0618 - acc: 0.6725 - val_loss: 2.6044 - val_acc: 0.6453\n",
            "\n",
            "Epoch 00008: val_loss improved from 2.79363 to 2.60438, saving model to txt_recog.weights\n",
            "Epoch 9/11\n",
            "270000/270000 [==============================] - 738s 3ms/step - loss: 1.8952 - acc: 0.6923 - val_loss: 2.5953 - val_acc: 0.6648\n",
            "\n",
            "Epoch 00009: val_loss improved from 2.60438 to 2.59533, saving model to txt_recog.weights\n",
            "Epoch 10/11\n",
            "270000/270000 [==============================] - 740s 3ms/step - loss: 1.7725 - acc: 0.7086 - val_loss: 2.6483 - val_acc: 0.6791\n",
            "\n",
            "Epoch 00010: val_loss did not improve from 2.59533\n",
            "Epoch 11/11\n",
            "270000/270000 [==============================] - 737s 3ms/step - loss: 1.6448 - acc: 0.7235 - val_loss: 2.6990 - val_acc: 0.6925\n",
            "\n",
            "Epoch 00011: val_loss did not improve from 2.59533\n"
          ],
          "name": "stdout"
        },
        {
          "output_type": "execute_result",
          "data": {
            "text/plain": [
              "<keras.callbacks.History at 0x7f4447ccacf8>"
            ]
          },
          "metadata": {
            "tags": []
          },
          "execution_count": 20
        }
      ]
    },
    {
      "cell_type": "code",
      "metadata": {
        "id": "-LYCnfLEb6pe",
        "colab_type": "code",
        "outputId": "c46a83f5-32cc-447f-c2dd-e74a8bce9abe",
        "colab": {
          "base_uri": "https://localhost:8080/",
          "height": 34
        }
      },
      "source": [
        "c=0\n",
        "for root, dirnames, filenames in os.walk(path):\n",
        " \n",
        "    for f_name in fnmatch.filter(filenames, '*.jpg'):\n",
        "      c= c+1  \n",
        "      \n",
        "print(c)"
      ],
      "execution_count": 0,
      "outputs": [
        {
          "output_type": "stream",
          "text": [
            "8919273\n"
          ],
          "name": "stdout"
        }
      ]
    },
    {
      "cell_type": "code",
      "metadata": {
        "id": "Pj-QjOa29AsM",
        "colab_type": "code",
        "outputId": "02e837c1-e186-496c-d914-b007e3f0bfc7",
        "colab": {
          "base_uri": "https://localhost:8080/",
          "height": 591
        }
      },
      "source": [
        "active_model.load_weights('txt_recog.weights')\n",
        " \n",
        "# predicting on validation images\n",
        "pred = active_model.predict(valid_img[:10])\n",
        " \n",
        "# use CTC decoder\n",
        "out = K.get_value(K.ctc_decode(pred, input_length=np.ones(pred.shape[0])*pred.shape[1],\n",
        "                         greedy=True)[0][0])\n",
        " \n",
        "# see the results\n",
        "i = 0\n",
        "for x in out:\n",
        "    print(\"original_text =  \", valid_orig_txt[i])\n",
        "    print(\"predicted_text = \", end = '')\n",
        "    for p in x:  \n",
        "        if int(p) != -1:\n",
        "            print(char_list[int(p)], end = '')       \n",
        "    print('\\n')\n",
        "    i+=1"
      ],
      "execution_count": 0,
      "outputs": [
        {
          "output_type": "stream",
          "text": [
            "W0808 16:12:21.035959 139934190012288 deprecation.py:323] From /usr/local/lib/python3.6/dist-packages/keras/backend/tensorflow_backend.py:4303: sparse_to_dense (from tensorflow.python.ops.sparse_ops) is deprecated and will be removed in a future version.\n",
            "Instructions for updating:\n",
            "Create a `tf.sparse.SparseTensor` and use `tf.sparse.to_dense` instead.\n"
          ],
          "name": "stderr"
        },
        {
          "output_type": "stream",
          "text": [
            "original_text =   KPH\n",
            "predicted_text = KPH\n",
            "\n",
            "original_text =   hoicks\n",
            "predicted_text = hoicks\n",
            "\n",
            "original_text =   Eclair\n",
            "predicted_text = Eclair\n",
            "\n",
            "original_text =   polka\n",
            "predicted_text = polka\n",
            "\n",
            "original_text =   LEAKIEST\n",
            "predicted_text = LEAKIEST\n",
            "\n",
            "original_text =   Epigram\n",
            "predicted_text = Epigram\n",
            "\n",
            "original_text =   Unbolting\n",
            "predicted_text = Unbolting\n",
            "\n",
            "original_text =   Mistrals\n",
            "predicted_text = Mirtrals\n",
            "\n",
            "original_text =   CREAMIEST\n",
            "predicted_text = CREAMEST\n",
            "\n",
            "original_text =   OUTSTRIPPED\n",
            "predicted_text = OUTSTRIPPED\n",
            "\n"
          ],
          "name": "stdout"
        }
      ]
    },
    {
      "cell_type": "code",
      "metadata": {
        "id": "7u_xc6rcdITm",
        "colab_type": "code",
        "colab": {}
      },
      "source": [
        "active_model.save('txt_recog_model.m')"
      ],
      "execution_count": 0,
      "outputs": []
    },
    {
      "cell_type": "markdown",
      "metadata": {
        "id": "UxiZbatJoT8b",
        "colab_type": "text"
      },
      "source": [
        "<h1>Fine Tunning in own dataset<h1>"
      ]
    },
    {
      "cell_type": "code",
      "metadata": {
        "id": "vPMoI81schlo",
        "colab_type": "code",
        "outputId": "e6a778eb-b25b-4bc1-aaf0-1840b6d5aa38",
        "colab": {
          "base_uri": "https://localhost:8080/",
          "height": 70
        }
      },
      "source": [
        "active_model = load_model('txt_recog_model.m')\n",
        "active_model.load_weights('txt_recog.weights')"
      ],
      "execution_count": 0,
      "outputs": [
        {
          "output_type": "stream",
          "text": [
            "/usr/local/lib/python3.6/dist-packages/keras/engine/saving.py:292: UserWarning: No training configuration found in save file: the model was *not* compiled. Compile it manually.\n",
            "  warnings.warn('No training configuration found in save file: '\n"
          ],
          "name": "stderr"
        }
      ]
    },
    {
      "cell_type": "code",
      "metadata": {
        "id": "7IuXI0hVkDT1",
        "colab_type": "code",
        "outputId": "5522d404-11d2-44e3-d129-2de287c926ab",
        "colab": {
          "base_uri": "https://localhost:8080/",
          "height": 84
        }
      },
      "source": [
        "patoolib.extract_archive('ReCo.zip',outdir='/content')"
      ],
      "execution_count": 0,
      "outputs": [
        {
          "output_type": "stream",
          "text": [
            "patool: Extracting ReCo.zip ...\n",
            "patool: running /usr/bin/7z x -o/content -- ReCo.zip\n",
            "patool: ... ReCo.zip extracted to `/content'.\n"
          ],
          "name": "stdout"
        },
        {
          "output_type": "execute_result",
          "data": {
            "text/plain": [
              "'/content'"
            ]
          },
          "metadata": {
            "tags": []
          },
          "execution_count": 9
        }
      ]
    },
    {
      "cell_type": "code",
      "metadata": {
        "id": "3N5G_21J9hjX",
        "colab_type": "code",
        "outputId": "8ded2599-b7e5-4c29-e481-ab2cb942f946",
        "colab": {
          "base_uri": "https://localhost:8080/",
          "height": 739
        }
      },
      "source": [
        "active_model.summary()"
      ],
      "execution_count": 0,
      "outputs": [
        {
          "output_type": "stream",
          "text": [
            "_________________________________________________________________\n",
            "Layer (type)                 Output Shape              Param #   \n",
            "=================================================================\n",
            "input_1 (InputLayer)         (None, 32, 128, 1)        0         \n",
            "_________________________________________________________________\n",
            "conv1 (Conv2D)               (None, 32, 128, 64)       640       \n",
            "_________________________________________________________________\n",
            "max1 (MaxPooling2D)          (None, 16, 64, 64)        0         \n",
            "_________________________________________________________________\n",
            "conv2 (Conv2D)               (None, 16, 64, 128)       73856     \n",
            "_________________________________________________________________\n",
            "max2 (MaxPooling2D)          (None, 8, 32, 128)        0         \n",
            "_________________________________________________________________\n",
            "conv3 (Conv2D)               (None, 8, 32, 256)        295168    \n",
            "_________________________________________________________________\n",
            "conv4 (Conv2D)               (None, 8, 32, 256)        590080    \n",
            "_________________________________________________________________\n",
            "max3 (MaxPooling2D)          (None, 4, 32, 256)        0         \n",
            "_________________________________________________________________\n",
            "conv5 (Conv2D)               (None, 4, 32, 512)        1180160   \n",
            "_________________________________________________________________\n",
            "batch_normalization_1 (Batch (None, 4, 32, 512)        2048      \n",
            "_________________________________________________________________\n",
            "conv6 (Conv2D)               (None, 4, 32, 512)        2359808   \n",
            "_________________________________________________________________\n",
            "batch_normalization_2 (Batch (None, 4, 32, 512)        2048      \n",
            "_________________________________________________________________\n",
            "max4 (MaxPooling2D)          (None, 2, 32, 512)        0         \n",
            "_________________________________________________________________\n",
            "conv7 (Conv2D)               (None, 1, 31, 512)        1049088   \n",
            "_________________________________________________________________\n",
            "lambda_1 (Lambda)            (None, 31, 512)           0         \n",
            "_________________________________________________________________\n",
            "bidirectional_1 (Bidirection (None, 31, 256)           656384    \n",
            "_________________________________________________________________\n",
            "bidirectional_2 (Bidirection (None, 31, 256)           394240    \n",
            "_________________________________________________________________\n",
            "dense_1 (Dense)              (None, 31, 63)            16191     \n",
            "=================================================================\n",
            "Total params: 6,619,711\n",
            "Trainable params: 6,617,663\n",
            "Non-trainable params: 2,048\n",
            "_________________________________________________________________\n"
          ],
          "name": "stdout"
        }
      ]
    },
    {
      "cell_type": "code",
      "metadata": {
        "id": "xVZkPqJam4tY",
        "colab_type": "code",
        "colab": {}
      },
      "source": [
        "for layer in active_model.layers[:-1]:\n",
        "\tlayer.trainable = False"
      ],
      "execution_count": 0,
      "outputs": []
    },
    {
      "cell_type": "code",
      "metadata": {
        "id": "NgR2-gZXmmL6",
        "colab_type": "code",
        "outputId": "6f698a64-c691-492f-e344-0a80f91e798a",
        "colab": {
          "base_uri": "https://localhost:8080/",
          "height": 739
        }
      },
      "source": [
        "active_model.summary()"
      ],
      "execution_count": 0,
      "outputs": [
        {
          "output_type": "stream",
          "text": [
            "_________________________________________________________________\n",
            "Layer (type)                 Output Shape              Param #   \n",
            "=================================================================\n",
            "input_1 (InputLayer)         (None, 32, 128, 1)        0         \n",
            "_________________________________________________________________\n",
            "conv1 (Conv2D)               (None, 32, 128, 64)       640       \n",
            "_________________________________________________________________\n",
            "max1 (MaxPooling2D)          (None, 16, 64, 64)        0         \n",
            "_________________________________________________________________\n",
            "conv2 (Conv2D)               (None, 16, 64, 128)       73856     \n",
            "_________________________________________________________________\n",
            "max2 (MaxPooling2D)          (None, 8, 32, 128)        0         \n",
            "_________________________________________________________________\n",
            "conv3 (Conv2D)               (None, 8, 32, 256)        295168    \n",
            "_________________________________________________________________\n",
            "conv4 (Conv2D)               (None, 8, 32, 256)        590080    \n",
            "_________________________________________________________________\n",
            "max3 (MaxPooling2D)          (None, 4, 32, 256)        0         \n",
            "_________________________________________________________________\n",
            "conv5 (Conv2D)               (None, 4, 32, 512)        1180160   \n",
            "_________________________________________________________________\n",
            "batch_normalization_1 (Batch (None, 4, 32, 512)        2048      \n",
            "_________________________________________________________________\n",
            "conv6 (Conv2D)               (None, 4, 32, 512)        2359808   \n",
            "_________________________________________________________________\n",
            "batch_normalization_2 (Batch (None, 4, 32, 512)        2048      \n",
            "_________________________________________________________________\n",
            "max4 (MaxPooling2D)          (None, 2, 32, 512)        0         \n",
            "_________________________________________________________________\n",
            "conv7 (Conv2D)               (None, 1, 31, 512)        1049088   \n",
            "_________________________________________________________________\n",
            "lambda_1 (Lambda)            (None, 31, 512)           0         \n",
            "_________________________________________________________________\n",
            "bidirectional_1 (Bidirection (None, 31, 256)           656384    \n",
            "_________________________________________________________________\n",
            "bidirectional_2 (Bidirection (None, 31, 256)           394240    \n",
            "_________________________________________________________________\n",
            "dense_1 (Dense)              (None, 31, 63)            16191     \n",
            "=================================================================\n",
            "Total params: 6,619,711\n",
            "Trainable params: 16,191\n",
            "Non-trainable params: 6,603,520\n",
            "_________________________________________________________________\n"
          ],
          "name": "stdout"
        }
      ]
    },
    {
      "cell_type": "code",
      "metadata": {
        "id": "MBPiPKht7RhS",
        "colab_type": "code",
        "colab": {}
      },
      "source": [
        "# lists for training dataset\n",
        "training_img1 = []\n",
        "training_txt1 = []\n",
        "train_input_length1 = []\n",
        "train_label_length1 = []\n",
        "orig_txt1 = []\n",
        " \n",
        "#lists for validation dataset\n",
        "valid_img1 = []\n",
        "valid_txt1 = []\n",
        "valid_input_length1 = []\n",
        "valid_label_length1 = []\n",
        "valid_orig_txt1 = []\n",
        " \n",
        "max_label_len1 = 0\n",
        " \n",
        "i =1 \n",
        "flag = 0\n",
        "path = 'RC/'\n",
        "\n",
        "count=1"
      ],
      "execution_count": 0,
      "outputs": []
    },
    {
      "cell_type": "code",
      "metadata": {
        "id": "sPvufpUcqvIa",
        "colab_type": "code",
        "outputId": "616c51b0-c3bc-4790-aff8-0bd98d103201",
        "colab": {
          "base_uri": "https://localhost:8080/",
          "height": 34
        }
      },
      "source": [
        "c=0\n",
        "for root, dirnames, filenames in os.walk(path):\n",
        " \n",
        "    for f_name in fnmatch.filter(filenames, '*.png'):\n",
        "      c= c+1  \n",
        "      \n",
        "print(c)"
      ],
      "execution_count": 0,
      "outputs": [
        {
          "output_type": "stream",
          "text": [
            "1919\n"
          ],
          "name": "stdout"
        }
      ]
    },
    {
      "cell_type": "code",
      "metadata": {
        "id": "DTNgMJACLO_4",
        "colab_type": "code",
        "outputId": "b957dc89-a89b-42b5-f442-8c014d155582",
        "colab": {
          "base_uri": "https://localhost:8080/",
          "height": 336
        }
      },
      "source": [
        "for root, dirnames, filenames in os.walk(path):\n",
        " \n",
        "    for f_name in fnmatch.filter(filenames, '*.png'):\n",
        "        # read input image and convert into gray scale image\n",
        "        count = count +1\n",
        "        c = cv2.imread(os.path.join(root, f_name))\n",
        "        img = cv2.cvtColor(c, cv2.COLOR_BGR2GRAY)\n",
        " \n",
        "        # convert each image of shape (32, 128, 1)\n",
        "        w, h = img.shape\n",
        "        if h > 128 or w > 32:\n",
        "            img = cv2.resize(img, (128,32))\n",
        "            w,h = img.shape\n",
        "        if w < 32:\n",
        "            add_zeros = np.ones((32-w, h))*255\n",
        "            img = np.concatenate((img, add_zeros))\n",
        "        if h < 128:\n",
        "            add_zeros = np.ones((32, 128-h))*255\n",
        "            img = np.concatenate((img, add_zeros), axis=1)\n",
        "        img = np.expand_dims(img , axis = 2)\n",
        "\n",
        "        # Normalize each image\n",
        "        img = img/255.\n",
        "        \n",
        "        \n",
        "        txt = f_name.split('.')[0]\n",
        "        \n",
        "        # compute maximum length of the text\n",
        "        if len(txt) > max_label_len1:\n",
        "            max_label_len1 = len(txt)\n",
        "            \n",
        "           \n",
        "        if count < 1600:\n",
        "            orig_txt1.append(txt)   \n",
        "            train_label_length1.append(len(txt))\n",
        "            train_input_length1.append(31)\n",
        "            training_img1.append(img)\n",
        "            training_txt1.append(encode_to_labels(txt))\n",
        "        else:\n",
        "            valid_orig_txt1.append(txt)   \n",
        "            valid_label_length1.append(len(txt))\n",
        "            valid_input_length1.append(31)\n",
        "            valid_img1.append(img)\n",
        "            valid_txt1.append(encode_to_labels(txt))        "
      ],
      "execution_count": 0,
      "outputs": [
        {
          "output_type": "stream",
          "text": [
            "_\n",
            " \n",
            " \n",
            " \n",
            " \n",
            " \n",
            " \n",
            " \n",
            " \n",
            "-\n",
            "-\n",
            " \n",
            " \n",
            "-\n",
            "-\n",
            "-\n",
            "-\n",
            "-\n",
            "-\n"
          ],
          "name": "stdout"
        }
      ]
    },
    {
      "cell_type": "code",
      "metadata": {
        "id": "JI8egAHHwTVM",
        "colab_type": "code",
        "colab": {}
      },
      "source": [
        "outputs=active_model.output\n",
        "inputs=active_model.input"
      ],
      "execution_count": 0,
      "outputs": []
    },
    {
      "cell_type": "code",
      "metadata": {
        "id": "hGBI7DxJUKf7",
        "colab_type": "code",
        "colab": {}
      },
      "source": [
        "# pad each output label to maximum text length\n",
        "train_padded_txt1 = pad_sequences(training_txt1, maxlen=max_label_len1, padding='post', value = len(char_list))\n",
        "valid_padded_txt1 = pad_sequences(valid_txt1, maxlen=max_label_len1, padding='post', value = len(char_list))"
      ],
      "execution_count": 0,
      "outputs": []
    },
    {
      "cell_type": "code",
      "metadata": {
        "id": "iYSRr_boUiRs",
        "colab_type": "code",
        "outputId": "5cfb447a-b894-47d5-da5f-4e03936c8007",
        "colab": {
          "base_uri": "https://localhost:8080/",
          "height": 188
        }
      },
      "source": [
        "labels1 = Input(name='the_labels', shape=[max_label_len1], dtype='float32')\n",
        "input_length1 = Input(name='input_length', shape=[1], dtype='int64')\n",
        "label_length1 = Input(name='label_length', shape=[1], dtype='int64')\n",
        " \n",
        "def ctc_lambda_func1(args):\n",
        "    y_pred, labels, input_length, label_length = args\n",
        " \n",
        "    return K.ctc_batch_cost(labels, y_pred, input_length, label_length)\n",
        " \n",
        "loss_out = Lambda(ctc_lambda_func1, output_shape=(1,), name='ctc')([outputs, labels1, input_length1, label_length1])\n",
        "\n",
        "#model to be used at training time\n",
        "model = Model(inputs=[inputs, labels1, input_length1, label_length1], outputs=loss_out)"
      ],
      "execution_count": 0,
      "outputs": [
        {
          "output_type": "stream",
          "text": [
            "W0808 08:13:09.205605 140005399807872 deprecation.py:323] From /usr/local/lib/python3.6/dist-packages/keras/backend/tensorflow_backend.py:4249: to_int32 (from tensorflow.python.ops.math_ops) is deprecated and will be removed in a future version.\n",
            "Instructions for updating:\n",
            "Use `tf.cast` instead.\n",
            "W0808 08:13:09.326371 140005399807872 deprecation.py:323] From /usr/local/lib/python3.6/dist-packages/tensorflow/python/ops/array_ops.py:1354: add_dispatch_support.<locals>.wrapper (from tensorflow.python.ops.array_ops) is deprecated and will be removed in a future version.\n",
            "Instructions for updating:\n",
            "Use tf.where in 2.0, which has the same broadcast rule as np.where\n",
            "W0808 08:13:09.368653 140005399807872 deprecation.py:323] From /usr/local/lib/python3.6/dist-packages/keras/backend/tensorflow_backend.py:4229: to_int64 (from tensorflow.python.ops.math_ops) is deprecated and will be removed in a future version.\n",
            "Instructions for updating:\n",
            "Use `tf.cast` instead.\n"
          ],
          "name": "stderr"
        }
      ]
    },
    {
      "cell_type": "code",
      "metadata": {
        "id": "sJ4r0axtzIy3",
        "colab_type": "code",
        "outputId": "94f489ad-2c05-4458-ab0a-e69ed1e21f63",
        "colab": {
          "base_uri": "https://localhost:8080/",
          "height": 70
        }
      },
      "source": [
        "model.compile(loss={'ctc': lambda y_true, y_pred: y_pred}, optimizer = 'adam', metrics=['accuracy'])\n",
        " \n",
        "filepath=\"text_recog_1.weights\"\n",
        "checkpoint = ModelCheckpoint(filepath=filepath, monitor='val_loss', verbose=1, save_best_only=True, mode='auto')\n",
        "callbacks_list = [checkpoint]"
      ],
      "execution_count": 0,
      "outputs": [
        {
          "output_type": "stream",
          "text": [
            "W0808 08:13:10.127195 140005399807872 deprecation_wrapper.py:119] From /usr/local/lib/python3.6/dist-packages/keras/optimizers.py:790: The name tf.train.Optimizer is deprecated. Please use tf.compat.v1.train.Optimizer instead.\n",
            "\n"
          ],
          "name": "stderr"
        }
      ]
    },
    {
      "cell_type": "code",
      "metadata": {
        "id": "P-M_84TxWDdM",
        "colab_type": "code",
        "colab": {}
      },
      "source": [
        "training_img1 = np.array(training_img1)\n",
        "train_input_length1 = np.array(train_input_length1)\n",
        "train_label_length1 = np.array(train_label_length1)\n",
        "\n",
        "valid_img1 = np.array(valid_img1)\n",
        "valid_input_length1 = np.array(valid_input_length1)\n",
        "valid_label_length1 = np.array(valid_label_length1)"
      ],
      "execution_count": 0,
      "outputs": []
    },
    {
      "cell_type": "code",
      "metadata": {
        "id": "mhHLj1q5AxLv",
        "colab_type": "code",
        "outputId": "842f2427-2b02-41b9-93c6-957a92324361",
        "colab": {
          "base_uri": "https://localhost:8080/",
          "height": 1000
        }
      },
      "source": [
        "batch_size = 32\n",
        "epochs = 25\n",
        "model.fit(x=[training_img1, train_padded_txt1, train_input_length1, \n",
        "             train_label_length1],\n",
        "          y=np.zeros(len(training_img1)), \n",
        "          batch_size=batch_size, \n",
        "          epochs = epochs, \n",
        "          validation_data = ([valid_img1, valid_padded_txt1, valid_input_length1, \n",
        "                              valid_label_length1], [np.zeros(len(valid_img1))]), \n",
        "          verbose = 1, \n",
        "          callbacks = callbacks_list)"
      ],
      "execution_count": 0,
      "outputs": [
        {
          "output_type": "stream",
          "text": [
            "Train on 1598 samples, validate on 321 samples\n",
            "Epoch 1/25\n",
            "1598/1598 [==============================] - 12s 8ms/step - loss: 70.8152 - acc: 0.0000e+00 - val_loss: 42.8348 - val_acc: 0.0000e+00\n",
            "\n",
            "Epoch 00001: val_loss improved from inf to 42.83484, saving model to text_recog_1.weights\n",
            "Epoch 2/25\n",
            "1598/1598 [==============================] - 8s 5ms/step - loss: 33.5924 - acc: 0.0000e+00 - val_loss: 26.3061 - val_acc: 0.0000e+00\n",
            "\n",
            "Epoch 00002: val_loss improved from 42.83484 to 26.30612, saving model to text_recog_1.weights\n",
            "Epoch 3/25\n",
            "1598/1598 [==============================] - 9s 5ms/step - loss: 26.6899 - acc: 0.0000e+00 - val_loss: 23.8926 - val_acc: 0.0000e+00\n",
            "\n",
            "Epoch 00003: val_loss improved from 26.30612 to 23.89257, saving model to text_recog_1.weights\n",
            "Epoch 4/25\n",
            "1598/1598 [==============================] - 9s 5ms/step - loss: 24.4558 - acc: 0.0000e+00 - val_loss: 22.3834 - val_acc: 0.0000e+00\n",
            "\n",
            "Epoch 00004: val_loss improved from 23.89257 to 22.38338, saving model to text_recog_1.weights\n",
            "Epoch 5/25\n",
            "1598/1598 [==============================] - 9s 5ms/step - loss: 22.9497 - acc: 0.0000e+00 - val_loss: 21.4083 - val_acc: 0.0000e+00\n",
            "\n",
            "Epoch 00005: val_loss improved from 22.38338 to 21.40826, saving model to text_recog_1.weights\n",
            "Epoch 6/25\n",
            "1598/1598 [==============================] - 9s 5ms/step - loss: 21.9178 - acc: 0.0000e+00 - val_loss: 20.6086 - val_acc: 0.0000e+00\n",
            "\n",
            "Epoch 00006: val_loss improved from 21.40826 to 20.60861, saving model to text_recog_1.weights\n",
            "Epoch 7/25\n",
            "1598/1598 [==============================] - 9s 5ms/step - loss: 21.0125 - acc: 0.0000e+00 - val_loss: 20.2403 - val_acc: 0.0000e+00\n",
            "\n",
            "Epoch 00007: val_loss improved from 20.60861 to 20.24028, saving model to text_recog_1.weights\n",
            "Epoch 8/25\n",
            "1598/1598 [==============================] - 9s 5ms/step - loss: 20.4265 - acc: 0.0000e+00 - val_loss: 19.7274 - val_acc: 0.0000e+00\n",
            "\n",
            "Epoch 00008: val_loss improved from 20.24028 to 19.72738, saving model to text_recog_1.weights\n",
            "Epoch 9/25\n",
            "1598/1598 [==============================] - 9s 5ms/step - loss: 19.8872 - acc: 0.0000e+00 - val_loss: 19.4815 - val_acc: 0.0000e+00\n",
            "\n",
            "Epoch 00009: val_loss improved from 19.72738 to 19.48155, saving model to text_recog_1.weights\n",
            "Epoch 10/25\n",
            "1598/1598 [==============================] - 9s 5ms/step - loss: 19.4116 - acc: 0.0000e+00 - val_loss: 19.0584 - val_acc: 0.0000e+00\n",
            "\n",
            "Epoch 00010: val_loss improved from 19.48155 to 19.05838, saving model to text_recog_1.weights\n",
            "Epoch 11/25\n",
            "1598/1598 [==============================] - 9s 5ms/step - loss: 19.0410 - acc: 0.0000e+00 - val_loss: 18.6964 - val_acc: 0.0000e+00\n",
            "\n",
            "Epoch 00011: val_loss improved from 19.05838 to 18.69644, saving model to text_recog_1.weights\n",
            "Epoch 12/25\n",
            "1598/1598 [==============================] - 9s 5ms/step - loss: 18.7186 - acc: 0.0000e+00 - val_loss: 18.6147 - val_acc: 0.0000e+00\n",
            "\n",
            "Epoch 00012: val_loss improved from 18.69644 to 18.61469, saving model to text_recog_1.weights\n",
            "Epoch 13/25\n",
            "1598/1598 [==============================] - 9s 5ms/step - loss: 18.3621 - acc: 0.0000e+00 - val_loss: 18.4190 - val_acc: 0.0000e+00\n",
            "\n",
            "Epoch 00013: val_loss improved from 18.61469 to 18.41900, saving model to text_recog_1.weights\n",
            "Epoch 14/25\n",
            "1598/1598 [==============================] - 9s 5ms/step - loss: 18.1345 - acc: 0.0000e+00 - val_loss: 18.2835 - val_acc: 0.0000e+00\n",
            "\n",
            "Epoch 00014: val_loss improved from 18.41900 to 18.28347, saving model to text_recog_1.weights\n",
            "Epoch 15/25\n",
            "1598/1598 [==============================] - 9s 5ms/step - loss: 17.8898 - acc: 0.0000e+00 - val_loss: 18.0741 - val_acc: 0.0000e+00\n",
            "\n",
            "Epoch 00015: val_loss improved from 18.28347 to 18.07410, saving model to text_recog_1.weights\n",
            "Epoch 16/25\n",
            "1598/1598 [==============================] - 9s 5ms/step - loss: 17.7031 - acc: 0.0000e+00 - val_loss: 17.8491 - val_acc: 0.0000e+00\n",
            "\n",
            "Epoch 00016: val_loss improved from 18.07410 to 17.84906, saving model to text_recog_1.weights\n",
            "Epoch 17/25\n",
            "1598/1598 [==============================] - 9s 5ms/step - loss: 17.4107 - acc: 0.0000e+00 - val_loss: 17.8630 - val_acc: 0.0000e+00\n",
            "\n",
            "Epoch 00017: val_loss did not improve from 17.84906\n",
            "Epoch 18/25\n",
            "1598/1598 [==============================] - 9s 5ms/step - loss: 17.3291 - acc: 0.0000e+00 - val_loss: 17.6063 - val_acc: 0.0000e+00\n",
            "\n",
            "Epoch 00018: val_loss improved from 17.84906 to 17.60630, saving model to text_recog_1.weights\n",
            "Epoch 19/25\n",
            "1598/1598 [==============================] - 9s 5ms/step - loss: 17.0954 - acc: 0.0000e+00 - val_loss: 17.4876 - val_acc: 0.0000e+00\n",
            "\n",
            "Epoch 00019: val_loss improved from 17.60630 to 17.48760, saving model to text_recog_1.weights\n",
            "Epoch 20/25\n",
            "1598/1598 [==============================] - 9s 5ms/step - loss: 17.0600 - acc: 0.0000e+00 - val_loss: 17.2104 - val_acc: 0.0000e+00\n",
            "\n",
            "Epoch 00020: val_loss improved from 17.48760 to 17.21043, saving model to text_recog_1.weights\n",
            "Epoch 21/25\n",
            "1598/1598 [==============================] - 9s 5ms/step - loss: 16.8707 - acc: 0.0000e+00 - val_loss: 17.3404 - val_acc: 0.0000e+00\n",
            "\n",
            "Epoch 00021: val_loss did not improve from 17.21043\n",
            "Epoch 22/25\n",
            "1598/1598 [==============================] - 9s 5ms/step - loss: 16.7163 - acc: 0.0000e+00 - val_loss: 17.0185 - val_acc: 0.0000e+00\n",
            "\n",
            "Epoch 00022: val_loss improved from 17.21043 to 17.01852, saving model to text_recog_1.weights\n",
            "Epoch 23/25\n",
            "1598/1598 [==============================] - 9s 5ms/step - loss: 16.6274 - acc: 0.0000e+00 - val_loss: 16.9329 - val_acc: 0.0000e+00\n",
            "\n",
            "Epoch 00023: val_loss improved from 17.01852 to 16.93294, saving model to text_recog_1.weights\n",
            "Epoch 24/25\n",
            "1598/1598 [==============================] - 9s 5ms/step - loss: 16.4917 - acc: 0.0000e+00 - val_loss: 17.1344 - val_acc: 0.0000e+00\n",
            "\n",
            "Epoch 00024: val_loss did not improve from 16.93294\n",
            "Epoch 25/25\n",
            "1598/1598 [==============================] - 9s 5ms/step - loss: 16.3001 - acc: 0.0000e+00 - val_loss: 16.7657 - val_acc: 0.0000e+00\n",
            "\n",
            "Epoch 00025: val_loss improved from 16.93294 to 16.76573, saving model to text_recog_1.weights\n"
          ],
          "name": "stdout"
        },
        {
          "output_type": "execute_result",
          "data": {
            "text/plain": [
              "<keras.callbacks.History at 0x7f54e1bf40f0>"
            ]
          },
          "metadata": {
            "tags": []
          },
          "execution_count": 15
        }
      ]
    },
    {
      "cell_type": "code",
      "metadata": {
        "id": "6QsmHdAC01__",
        "colab_type": "code",
        "outputId": "d47abac7-18ed-445e-b031-22509859ad90",
        "colab": {
          "base_uri": "https://localhost:8080/",
          "height": 34
        }
      },
      "source": [
        "len(valid_img1)"
      ],
      "execution_count": 0,
      "outputs": [
        {
          "output_type": "execute_result",
          "data": {
            "text/plain": [
              "208"
            ]
          },
          "metadata": {
            "tags": []
          },
          "execution_count": 37
        }
      ]
    },
    {
      "cell_type": "code",
      "metadata": {
        "id": "AfXGytCnCAg5",
        "colab_type": "code",
        "colab": {}
      },
      "source": [
        "for layer in active_model.layers[:]:\n",
        "\tlayer.trainable = True"
      ],
      "execution_count": 0,
      "outputs": []
    },
    {
      "cell_type": "code",
      "metadata": {
        "id": "hfwDcChmWvGD",
        "colab_type": "code",
        "outputId": "4c790dcc-2a1e-4f2b-c03f-9fc3efc2643c",
        "colab": {
          "base_uri": "https://localhost:8080/",
          "height": 591
        }
      },
      "source": [
        "# load the saved best model weights\n",
        "active_model.load_weights('text_recog_1.weights')\n",
        " \n",
        "# predict outputs on validation images\n",
        "prediction = active_model.predict(valid_img1[40:50])\n",
        " \n",
        "# use CTC decoder\n",
        "out = K.get_value(K.ctc_decode(prediction, input_length=np.ones(prediction.shape[0])*prediction.shape[1],\n",
        "                         greedy=True)[0][0])\n",
        " \n",
        "# see the results\n",
        "i = 40\n",
        "for x in out:\n",
        "    print(\"orig_txt =  \", valid_orig_txt1[i])\n",
        "    print(\"pred_txt = \", end = '')\n",
        "    for p in x:  \n",
        "        if int(p) != -1:\n",
        "            print(char_list[int(p)], end = '')       \n",
        "    print('\\n')\n",
        "    i+=1"
      ],
      "execution_count": 0,
      "outputs": [
        {
          "output_type": "stream",
          "text": [
            "W0808 08:17:27.447884 140005399807872 deprecation.py:323] From /usr/local/lib/python3.6/dist-packages/keras/backend/tensorflow_backend.py:4303: sparse_to_dense (from tensorflow.python.ops.sparse_ops) is deprecated and will be removed in a future version.\n",
            "Instructions for updating:\n",
            "Create a `tf.sparse.SparseTensor` and use `tf.sparse.to_dense` instead.\n"
          ],
          "name": "stderr"
        },
        {
          "output_type": "stream",
          "text": [
            "orig_txt =   AP280N6507\n",
            "pred_txt = MAP128DN650727\n",
            "\n",
            "orig_txt =   WB06H2175\n",
            "pred_txt = BHB06H2125\n",
            "\n",
            "orig_txt =   1N4AL2AP3CN501870\n",
            "pred_txt = 1N4AL2AP31CN501870\n",
            "\n",
            "orig_txt =   1GCVKREC0EZ197035\n",
            "pred_txt = 16EVKREM2Z197085\n",
            "\n",
            "orig_txt =   MH12HV1735\n",
            "pred_txt = MH02857\n",
            "\n",
            "orig_txt =   1FMCU9H96DUA80858\n",
            "pred_txt = 1FMCU2HAP61U440468\n",
            "\n",
            "orig_txt =   KL41A9786\n",
            "pred_txt = 1KL2Z1A57288\n",
            "\n",
            "orig_txt =   2G1FB1ED5B9139757\n",
            "pred_txt = 2G1FB1ED5B9T839757\n",
            "\n",
            "orig_txt =   MH12FY7692\n",
            "pred_txt = S368\n",
            "\n",
            "orig_txt =   AP10BB3651\n",
            "pred_txt = AAP40BB3651\n",
            "\n"
          ],
          "name": "stdout"
        }
      ]
    },
    {
      "cell_type": "code",
      "metadata": {
        "id": "dPCvDYvgEe-e",
        "colab_type": "code",
        "colab": {}
      },
      "source": [
        "active_model.save('text_recog_1.m')"
      ],
      "execution_count": 0,
      "outputs": []
    },
    {
      "cell_type": "code",
      "metadata": {
        "id": "T199z7S7sIkh",
        "colab_type": "code",
        "colab": {}
      },
      "source": [
        ""
      ],
      "execution_count": 0,
      "outputs": []
    }
  ]
}