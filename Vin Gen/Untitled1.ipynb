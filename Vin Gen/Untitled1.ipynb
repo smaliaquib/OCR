{
 "cells": [
  {
   "cell_type": "code",
   "execution_count": 1,
   "metadata": {},
   "outputs": [],
   "source": [
    "f = open('Vin.txt','r')"
   ]
  },
  {
   "cell_type": "code",
   "execution_count": 2,
   "metadata": {},
   "outputs": [],
   "source": [
    "content=f.read()"
   ]
  },
  {
   "cell_type": "code",
   "execution_count": 3,
   "metadata": {},
   "outputs": [],
   "source": [
    "li=[]"
   ]
  },
  {
   "cell_type": "code",
   "execution_count": 4,
   "metadata": {},
   "outputs": [],
   "source": [
    "li = content.split()"
   ]
  },
  {
   "cell_type": "code",
   "execution_count": 5,
   "metadata": {},
   "outputs": [
    {
     "data": {
      "text/plain": [
       "1000"
      ]
     },
     "execution_count": 5,
     "metadata": {},
     "output_type": "execute_result"
    }
   ],
   "source": [
    "len(li)"
   ]
  },
  {
   "cell_type": "code",
   "execution_count": null,
   "metadata": {},
   "outputs": [],
   "source": []
  },
  {
   "cell_type": "code",
   "execution_count": 6,
   "metadata": {},
   "outputs": [],
   "source": [
    "from PIL import ImageFont, ImageDraw, Image  \n",
    "import numpy as np \n",
    "import cv2\n",
    "import random"
   ]
  },
  {
   "cell_type": "code",
   "execution_count": 5,
   "metadata": {},
   "outputs": [],
   "source": [
    "number_plate_1 = \"KA 0\" + str(1)"
   ]
  },
  {
   "cell_type": "code",
   "execution_count": 33,
   "metadata": {},
   "outputs": [
    {
     "data": {
      "text/plain": [
       "True"
      ]
     },
     "execution_count": 33,
     "metadata": {},
     "output_type": "execute_result"
    }
   ],
   "source": [
    "number_plate_2 = (chr(random.randint(65, 90))+chr(random.randint(65, 90))+\" \" + str(random.randint(1000, 9999)))\n",
    "img = np.zeros((32, 128, 3), np.uint8)\n",
    "pil_img = Image.fromarray(img)\n",
    "draw = ImageDraw.Draw(pil_img)\n",
    "\n",
    "\n",
    "font = ImageFont.truetype(font='BebasNeue-Regular.otf',size=20)\n",
    "draw.text((2, 10), number_plate_1,font=font)\n",
    "cv2_img = cv2.cvtColor(np.array(pil_img), cv2.COLOR_RGB2BGR)\n",
    "cv2_img = cv2.bitwise_not(cv2_img)\n",
    "\n",
    "            #cv2.imshow(\"number_plate\", cv2_img)\n",
    "cv2.imwrite(\"fon/\"+number_plate_1+\".png\", cv2_img)"
   ]
  },
  {
   "cell_type": "code",
   "execution_count": 45,
   "metadata": {},
   "outputs": [
    {
     "data": {
      "text/plain": [
       "True"
      ]
     },
     "execution_count": 45,
     "metadata": {},
     "output_type": "execute_result"
    }
   ],
   "source": [
    "img = np.zeros((32, 128, 3), np.uint8)\n",
    "pil_img = Image.fromarray(img)\n",
    "draw = ImageDraw.Draw(pil_img)\n",
    "\n",
    "font = ImageFont.truetype(font='BebasNeue-Regular.otf',size=20)\n",
    "draw.text((0.3, 10), li[0],font=font)\n",
    "\n",
    "cv2_img = cv2.cvtColor(np.array(pil_img), cv2.COLOR_RGB2BGR)\n",
    "cv2_img = cv2.bitwise_not(cv2_img)\n",
    "\n",
    "cv2.imwrite(\"fon/\"+li[0]+\".jpg\", cv2_img)"
   ]
  },
  {
   "cell_type": "code",
   "execution_count": 7,
   "metadata": {},
   "outputs": [],
   "source": [
    "for i in range(1000):\n",
    "    img = np.zeros((32, 170, 3), np.uint8)\n",
    "    pil_img = Image.fromarray(img)\n",
    "    draw = ImageDraw.Draw(pil_img)\n",
    "\n",
    "    font = ImageFont.truetype(font='BebasNeue-Regular.otf',size=20)\n",
    "    draw.text((4, 10), li[i],font=font)\n",
    "\n",
    "    cv2_img = cv2.cvtColor(np.array(pil_img), cv2.COLOR_RGB2BGR)\n",
    "    cv2_img = cv2.bitwise_not(cv2_img)\n",
    "\n",
    "    cv2.imwrite(\"fon/\"+li[i]+\".png\", cv2_img)"
   ]
  },
  {
   "cell_type": "code",
   "execution_count": 8,
   "metadata": {},
   "outputs": [
    {
     "data": {
      "text/plain": [
       "1000"
      ]
     },
     "execution_count": 8,
     "metadata": {},
     "output_type": "execute_result"
    }
   ],
   "source": [
    "len(li)"
   ]
  },
  {
   "cell_type": "code",
   "execution_count": 53,
   "metadata": {},
   "outputs": [],
   "source": [
    "def Repeat(x): \n",
    "    _size = len(x) \n",
    "    repeated = [] \n",
    "    for i in range(_size): \n",
    "        k = i + 1\n",
    "        for j in range(k, _size): \n",
    "            if x[i] == x[j] and x[i] not in repeated: \n",
    "                repeated.append(x[i]) \n",
    "    return repeated "
   ]
  },
  {
   "cell_type": "code",
   "execution_count": 63,
   "metadata": {},
   "outputs": [
    {
     "data": {
      "text/plain": [
       "0"
      ]
     },
     "execution_count": 63,
     "metadata": {},
     "output_type": "execute_result"
    }
   ],
   "source": [
    "len(Repeat(lio))"
   ]
  },
  {
   "cell_type": "code",
   "execution_count": null,
   "metadata": {},
   "outputs": [],
   "source": []
  },
  {
   "cell_type": "code",
   "execution_count": 9,
   "metadata": {},
   "outputs": [],
   "source": [
    "f1 = open('Vin2.txt','r')"
   ]
  },
  {
   "cell_type": "code",
   "execution_count": 10,
   "metadata": {},
   "outputs": [],
   "source": [
    "content=f1.read()"
   ]
  },
  {
   "cell_type": "code",
   "execution_count": 11,
   "metadata": {},
   "outputs": [],
   "source": [
    "lio=[]"
   ]
  },
  {
   "cell_type": "code",
   "execution_count": 12,
   "metadata": {},
   "outputs": [],
   "source": [
    "lio = content.split()"
   ]
  },
  {
   "cell_type": "code",
   "execution_count": 13,
   "metadata": {},
   "outputs": [
    {
     "data": {
      "text/plain": [
       "1348"
      ]
     },
     "execution_count": 13,
     "metadata": {},
     "output_type": "execute_result"
    }
   ],
   "source": [
    "len(lio)"
   ]
  },
  {
   "cell_type": "code",
   "execution_count": 14,
   "metadata": {},
   "outputs": [],
   "source": [
    "for i in range(1348):\n",
    "    img = np.zeros((32, 170, 3), np.uint8)\n",
    "    pil_img = Image.fromarray(img)\n",
    "    draw = ImageDraw.Draw(pil_img)\n",
    "\n",
    "    font = ImageFont.truetype(font='BebasNeue-Regular.otf',size=20)\n",
    "    draw.text((4, 10), lio[i],font=font)\n",
    "\n",
    "    cv2_img = cv2.cvtColor(np.array(pil_img), cv2.COLOR_RGB2BGR)\n",
    "    cv2_img = cv2.bitwise_not(cv2_img)\n",
    "\n",
    "    cv2.imwrite(\"fon1/\"+lio[i]+\".png\", cv2_img)"
   ]
  },
  {
   "cell_type": "code",
   "execution_count": null,
   "metadata": {},
   "outputs": [],
   "source": []
  }
 ],
 "metadata": {
  "kernelspec": {
   "display_name": "Python 3",
   "language": "python",
   "name": "python3"
  },
  "language_info": {
   "codemirror_mode": {
    "name": "ipython",
    "version": 3
   },
   "file_extension": ".py",
   "mimetype": "text/x-python",
   "name": "python",
   "nbconvert_exporter": "python",
   "pygments_lexer": "ipython3",
   "version": "3.6.5"
  },
  "varInspector": {
   "cols": {
    "lenName": 16,
    "lenType": 16,
    "lenVar": 40
   },
   "kernels_config": {
    "python": {
     "delete_cmd_postfix": "",
     "delete_cmd_prefix": "del ",
     "library": "var_list.py",
     "varRefreshCmd": "print(var_dic_list())"
    },
    "r": {
     "delete_cmd_postfix": ") ",
     "delete_cmd_prefix": "rm(",
     "library": "var_list.r",
     "varRefreshCmd": "cat(var_dic_list()) "
    }
   },
   "types_to_exclude": [
    "module",
    "function",
    "builtin_function_or_method",
    "instance",
    "_Feature"
   ],
   "window_display": false
  }
 },
 "nbformat": 4,
 "nbformat_minor": 2
}
