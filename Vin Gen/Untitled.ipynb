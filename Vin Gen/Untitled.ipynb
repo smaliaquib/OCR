{
 "cells": [
  {
   "cell_type": "code",
   "execution_count": 10,
   "metadata": {},
   "outputs": [],
   "source": [
    "import random\n"
   ]
  },
  {
   "cell_type": "code",
   "execution_count": 52,
   "metadata": {},
   "outputs": [],
   "source": [
    "vinDigitPositionMultiplier = [ 8, 7, 6, 5, 4, 3, 2, 10, 0, 9, 8, 7, 6, 5, 4, 3, 2 ]\n",
    "vinDigitValues = { 'A':1, 'B':2, 'C':3, 'D':4, 'E':5, 'F':6, 'G':7, 'H':8, 'J':1,\n",
    "                        'K':2, 'L':3, 'M':4, 'N':5, 'P':7, 'R':9, 'S':2, 'T':3, 'U':4, 'V':5, \n",
    "                        'W':6, 'X':7, 'Y':8, 'Z':9, '1':1, '2':2, '3':3, '4':4, '5':5, '6':6, \n",
    "                        '7':7, '8':8, '9':9, '0':0}"
   ]
  },
  {
   "cell_type": "code",
   "execution_count": 12,
   "metadata": {},
   "outputs": [],
   "source": [
    "class VinYear:\n",
    "    def __init__(self, first8, year):\n",
    "        self.First8 = first8\n",
    "        self.Year = year\n",
    "    \n",
    "    def __repr__(self):\n",
    "        return \"First8: %s - Year: %s\" % (self.First8, self.Year)"
   ]
  },
  {
   "cell_type": "code",
   "execution_count": 13,
   "metadata": {},
   "outputs": [],
   "source": [
    "def getRandomVin():\n",
    "    vinYear = getRandomVinStart()\n",
    "    char = getRandomVinChar()\n",
    "        \n",
    "    v = \"%s%s%s\" % (vinYear.First8, char, vinYear.Year)\n",
    "    for i in range(7):\n",
    "        v += getRandomVinChar()\n",
    "            \n",
    "    checkChar = getCheckSumChar(v)\n",
    "    v = \"%s%s%s\" % (v[0:8], checkChar, v[9:])\n",
    "    return v"
   ]
  },
  {
   "cell_type": "code",
   "execution_count": 109,
   "metadata": {},
   "outputs": [],
   "source": [
    "def getCheckSumChar(vin):\n",
    "    # generate the check sum\n",
    "    checkSumTotal = 0\n",
    "\n",
    "    if (len(vin) < 17):\n",
    "        print(\"Invalid Length:{}\".format(len(vin)))\n",
    "        return -1\n",
    "\n",
    "    for i in range(len(vin)):\n",
    "        if (vinDigitValues.get(vin[i], \"-1\") != \"-1\"):\n",
    "            checkSumTotal += int(vinDigitValues[vin[i]]) * vinDigitPositionMultiplier[i];\n",
    "        else:\n",
    "            #Characters not in the VinDigitValues list are not valid VIN characters - return false (invalid)\n",
    "            print (\"Illegal Character: {}\".format(vin[i]))\n",
    "            return -1;\n",
    "\n",
    "    remain = checkSumTotal % 11\n",
    "    char = ''\n",
    "    if remain == 10:\n",
    "        char = 'X'\n",
    "\n",
    "    return char"
   ]
  },
  {
   "cell_type": "code",
   "execution_count": 98,
   "metadata": {},
   "outputs": [],
   "source": [
    "def getRandomVinChar():\n",
    "    i = int(random.random() * len(vinDigitValues))\n",
    "    return li[i]"
   ]
  },
  {
   "cell_type": "code",
   "execution_count": 94,
   "metadata": {},
   "outputs": [],
   "source": [
    "li=[]"
   ]
  },
  {
   "cell_type": "code",
   "execution_count": 96,
   "metadata": {},
   "outputs": [],
   "source": [
    "for i in vinDigitValues.keys():\n",
    "    li.append(i)"
   ]
  },
  {
   "cell_type": "code",
   "execution_count": 97,
   "metadata": {},
   "outputs": [
    {
     "data": {
      "text/plain": [
       "'B'"
      ]
     },
     "execution_count": 97,
     "metadata": {},
     "output_type": "execute_result"
    }
   ],
   "source": [
    "li[1]"
   ]
  },
  {
   "cell_type": "code",
   "execution_count": 27,
   "metadata": {},
   "outputs": [],
   "source": [
    "def getRandomVinStart():\n",
    "    #137DA903       T\n",
    "    #137FA833       3\n",
    "    vinFile = open(\"VinPrefixes.txt\")\n",
    "    count = 0\n",
    "\n",
    "    # Get random Manufaturer and Model\n",
    "    lineToRead = int(random.random() * 62178)\n",
    "\n",
    "    try:\n",
    "        while (count <= lineToRead):\n",
    "            line = vinFile.readline()\n",
    "            count += 1\n",
    "    finally:\n",
    "        vinFile.close()\n",
    "\n",
    "    fields = line.split()\n",
    "    return VinYear(fields[0].strip(), fields[1].strip())"
   ]
  },
  {
   "cell_type": "code",
   "execution_count": 106,
   "metadata": {},
   "outputs": [],
   "source": [
    "def isValidVin(vin):\n",
    "    #print(\"Vin Lenth: %s\" % len(vin))\n",
    "    if (len(vin) != 18):\n",
    "            return False\n",
    "\n",
    "    c = getCheckSumChar(vin)\n",
    "    #print(\"Expected Character %s - Actual: %s\" % (c, vin[8]))\n",
    "\n",
    "    #9th character of the VIN is the Check Digit - if equal then valid\n",
    "    return (c == vin[8]);"
   ]
  },
  {
   "cell_type": "code",
   "execution_count": 144,
   "metadata": {},
   "outputs": [
    {
     "data": {
      "text/plain": [
       "'1GCCS1399C2R3X1X'"
      ]
     },
     "execution_count": 144,
     "metadata": {},
     "output_type": "execute_result"
    }
   ],
   "source": [
    "getRandomVin()"
   ]
  },
  {
   "cell_type": "code",
   "execution_count": null,
   "metadata": {},
   "outputs": [],
   "source": []
  },
  {
   "cell_type": "code",
   "execution_count": null,
   "metadata": {},
   "outputs": [],
   "source": []
  }
 ],
 "metadata": {
  "kernelspec": {
   "display_name": "Python 3",
   "language": "python",
   "name": "python3"
  },
  "language_info": {
   "codemirror_mode": {
    "name": "ipython",
    "version": 3
   },
   "file_extension": ".py",
   "mimetype": "text/x-python",
   "name": "python",
   "nbconvert_exporter": "python",
   "pygments_lexer": "ipython3",
   "version": "3.6.5"
  },
  "varInspector": {
   "cols": {
    "lenName": 16,
    "lenType": 16,
    "lenVar": 40
   },
   "kernels_config": {
    "python": {
     "delete_cmd_postfix": "",
     "delete_cmd_prefix": "del ",
     "library": "var_list.py",
     "varRefreshCmd": "print(var_dic_list())"
    },
    "r": {
     "delete_cmd_postfix": ") ",
     "delete_cmd_prefix": "rm(",
     "library": "var_list.r",
     "varRefreshCmd": "cat(var_dic_list()) "
    }
   },
   "types_to_exclude": [
    "module",
    "function",
    "builtin_function_or_method",
    "instance",
    "_Feature"
   ],
   "window_display": false
  }
 },
 "nbformat": 4,
 "nbformat_minor": 2
}
